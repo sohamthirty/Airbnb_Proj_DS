{
 "cells": [
  {
   "cell_type": "markdown",
   "id": "19e9ed95",
   "metadata": {},
   "source": [
    "# Data Modelling"
   ]
  },
  {
   "cell_type": "markdown",
   "id": "b404dc9a",
   "metadata": {},
   "source": [
    "## Importing the libraries"
   ]
  },
  {
   "cell_type": "code",
   "execution_count": 102,
   "id": "19bd1bd6",
   "metadata": {},
   "outputs": [],
   "source": [
    "import pandas as pd\n",
    "import numpy as np\n",
    "import matplotlib.pyplot as plt"
   ]
  },
  {
   "cell_type": "markdown",
   "id": "55d17113",
   "metadata": {},
   "source": [
    "## Importing the dataset"
   ]
  },
  {
   "cell_type": "code",
   "execution_count": 103,
   "id": "b21165e7",
   "metadata": {},
   "outputs": [],
   "source": [
    "df=pd.read_csv('data_pre_modelling.csv', low_memory=False)"
   ]
  },
  {
   "cell_type": "code",
   "execution_count": 104,
   "id": "9c7cff74",
   "metadata": {},
   "outputs": [
    {
     "data": {
      "text/plain": [
       "(225907, 81)"
      ]
     },
     "execution_count": 104,
     "metadata": {},
     "output_type": "execute_result"
    }
   ],
   "source": [
    "df.shape"
   ]
  },
  {
   "cell_type": "code",
   "execution_count": 105,
   "id": "601f4929",
   "metadata": {},
   "outputs": [
    {
     "data": {
      "text/plain": [
       "48532"
      ]
     },
     "execution_count": 105,
     "metadata": {},
     "output_type": "execute_result"
    }
   ],
   "source": [
    "df.reviews_per_month.isna().sum()"
   ]
  },
  {
   "cell_type": "code",
   "execution_count": 106,
   "id": "57a1825a",
   "metadata": {
    "scrolled": true
   },
   "outputs": [
    {
     "data": {
      "text/plain": [
       "Index(['id', 'name', 'host_id', 'host_name', 'neighbourhood', 'latitude',\n",
       "       'longitude', 'minimum_nights', 'number_of_reviews', 'last_review',\n",
       "       'reviews_per_month', 'calculated_host_listings_count',\n",
       "       'availability_365', 'city_Asheville', 'city_Austin', 'city_Boston',\n",
       "       'city_Broward County', 'city_Cambridge', 'city_Chicago',\n",
       "       'city_Clark County', 'city_Columbus', 'city_Denver', 'city_Hawaii',\n",
       "       'city_Jersey City', 'city_Los Angeles', 'city_Nashville',\n",
       "       'city_New Orleans', 'city_New York City', 'city_Oakland',\n",
       "       'city_Pacific Grove', 'city_Portland', 'city_Rhode Island',\n",
       "       'city_Salem', 'city_San Clara Country', 'city_San Diego',\n",
       "       'city_San Francisco', 'city_San Mateo County', 'city_Santa Cruz County',\n",
       "       'city_Seattle', 'city_Twin Cities MSA', 'city_Washington D.C.',\n",
       "       'room_type_Entire home/apt', 'room_type_Hotel room',\n",
       "       'room_type_Private room', 'room_type_Shared room',\n",
       "       'neighbourhood_group_Ballard', 'neighbourhood_group_Beacon Hill',\n",
       "       'neighbourhood_group_Bristol', 'neighbourhood_group_Bronx',\n",
       "       'neighbourhood_group_Brooklyn', 'neighbourhood_group_Capitol Hill',\n",
       "       'neighbourhood_group_Cascade', 'neighbourhood_group_Central Area',\n",
       "       'neighbourhood_group_City of Los Angeles',\n",
       "       'neighbourhood_group_Delridge', 'neighbourhood_group_Downtown',\n",
       "       'neighbourhood_group_Hawaii', 'neighbourhood_group_Honolulu',\n",
       "       'neighbourhood_group_Interbay', 'neighbourhood_group_Kauai',\n",
       "       'neighbourhood_group_Kent', 'neighbourhood_group_Lake City',\n",
       "       'neighbourhood_group_Magnolia', 'neighbourhood_group_Manhattan',\n",
       "       'neighbourhood_group_Maui', 'neighbourhood_group_Newport',\n",
       "       'neighbourhood_group_Northgate', 'neighbourhood_group_Other Cities',\n",
       "       'neighbourhood_group_Other neighborhoods',\n",
       "       'neighbourhood_group_Providence', 'neighbourhood_group_Queen Anne',\n",
       "       'neighbourhood_group_Queens', 'neighbourhood_group_Rainier Valley',\n",
       "       'neighbourhood_group_Seward Park', 'neighbourhood_group_Staten Island',\n",
       "       'neighbourhood_group_Unincorporated Areas',\n",
       "       'neighbourhood_group_University District',\n",
       "       'neighbourhood_group_Washington', 'neighbourhood_group_West Seattle',\n",
       "       'neighbourhood_group_unknown', 'price'],\n",
       "      dtype='object')"
      ]
     },
     "execution_count": 106,
     "metadata": {},
     "output_type": "execute_result"
    }
   ],
   "source": [
    "df.columns"
   ]
  },
  {
   "cell_type": "code",
   "execution_count": 107,
   "id": "b4b51c4c",
   "metadata": {},
   "outputs": [],
   "source": [
    "df2 = df.drop(columns=['id', 'name','host_id','host_name','last_review','neighbourhood','longitude','latitude'])"
   ]
  },
  {
   "cell_type": "code",
   "execution_count": 108,
   "id": "0b4d4951",
   "metadata": {},
   "outputs": [
    {
     "name": "stdout",
     "output_type": "stream",
     "text": [
      "minimum_nights                                  0\n",
      "number_of_reviews                               0\n",
      "reviews_per_month                           48532\n",
      "calculated_host_listings_count                  0\n",
      "availability_365                                0\n",
      "city_Asheville                                  0\n",
      "city_Austin                                     0\n",
      "city_Boston                                     0\n",
      "city_Broward County                             0\n",
      "city_Cambridge                                  0\n",
      "city_Chicago                                    0\n",
      "city_Clark County                               0\n",
      "city_Columbus                                   0\n",
      "city_Denver                                     0\n",
      "city_Hawaii                                     0\n",
      "city_Jersey City                                0\n",
      "city_Los Angeles                                0\n",
      "city_Nashville                                  0\n",
      "city_New Orleans                                0\n",
      "city_New York City                              0\n",
      "city_Oakland                                    0\n",
      "city_Pacific Grove                              0\n",
      "city_Portland                                   0\n",
      "city_Rhode Island                               0\n",
      "city_Salem                                      0\n",
      "city_San Clara Country                          0\n",
      "city_San Diego                                  0\n",
      "city_San Francisco                              0\n",
      "city_San Mateo County                           0\n",
      "city_Santa Cruz County                          0\n",
      "city_Seattle                                    0\n",
      "city_Twin Cities MSA                            0\n",
      "city_Washington D.C.                            0\n",
      "room_type_Entire home/apt                       0\n",
      "room_type_Hotel room                            0\n",
      "room_type_Private room                          0\n",
      "room_type_Shared room                           0\n",
      "neighbourhood_group_Ballard                     0\n",
      "neighbourhood_group_Beacon Hill                 0\n",
      "neighbourhood_group_Bristol                     0\n",
      "neighbourhood_group_Bronx                       0\n",
      "neighbourhood_group_Brooklyn                    0\n",
      "neighbourhood_group_Capitol Hill                0\n",
      "neighbourhood_group_Cascade                     0\n",
      "neighbourhood_group_Central Area                0\n",
      "neighbourhood_group_City of Los Angeles         0\n",
      "neighbourhood_group_Delridge                    0\n",
      "neighbourhood_group_Downtown                    0\n",
      "neighbourhood_group_Hawaii                      0\n",
      "neighbourhood_group_Honolulu                    0\n",
      "neighbourhood_group_Interbay                    0\n",
      "neighbourhood_group_Kauai                       0\n",
      "neighbourhood_group_Kent                        0\n",
      "neighbourhood_group_Lake City                   0\n",
      "neighbourhood_group_Magnolia                    0\n",
      "neighbourhood_group_Manhattan                   0\n",
      "neighbourhood_group_Maui                        0\n",
      "neighbourhood_group_Newport                     0\n",
      "neighbourhood_group_Northgate                   0\n",
      "neighbourhood_group_Other Cities                0\n",
      "neighbourhood_group_Other neighborhoods         0\n",
      "neighbourhood_group_Providence                  0\n",
      "neighbourhood_group_Queen Anne                  0\n",
      "neighbourhood_group_Queens                      0\n",
      "neighbourhood_group_Rainier Valley              0\n",
      "neighbourhood_group_Seward Park                 0\n",
      "neighbourhood_group_Staten Island               0\n",
      "neighbourhood_group_Unincorporated Areas        0\n",
      "neighbourhood_group_University District         0\n",
      "neighbourhood_group_Washington                  0\n",
      "neighbourhood_group_West Seattle                0\n",
      "neighbourhood_group_unknown                     0\n",
      "price                                           0\n",
      "dtype: int64\n"
     ]
    }
   ],
   "source": [
    "dfd = df2.isna().sum()\n",
    "pd.set_option('display.max_rows', None)\n",
    "print(dfd)"
   ]
  },
  {
   "cell_type": "code",
   "execution_count": 109,
   "id": "51f9b0ec",
   "metadata": {},
   "outputs": [],
   "source": [
    "X=df2.iloc[:,:-1].values\n",
    "y=df2.iloc[:,-1].values"
   ]
  },
  {
   "cell_type": "markdown",
   "id": "881a02de",
   "metadata": {},
   "source": [
    "### Imputation using Mean for 'reviews_per_month'"
   ]
  },
  {
   "cell_type": "code",
   "execution_count": 110,
   "id": "c684f56a",
   "metadata": {},
   "outputs": [
    {
     "name": "stdout",
     "output_type": "stream",
     "text": [
      "2\n"
     ]
    }
   ],
   "source": [
    "index_no = df2.columns.get_loc('reviews_per_month')\n",
    "print(index_no)"
   ]
  },
  {
   "cell_type": "code",
   "execution_count": 111,
   "id": "b9bd3496",
   "metadata": {},
   "outputs": [],
   "source": [
    "xrpm = X[:,index_no].reshape(-1, 1)"
   ]
  },
  {
   "cell_type": "code",
   "execution_count": 112,
   "id": "64ad262a",
   "metadata": {},
   "outputs": [],
   "source": [
    "from sklearn.impute import SimpleImputer\n",
    "imputer=SimpleImputer(missing_values=np.nan, strategy='mean')\n",
    "imputer.fit(xrpm)\n",
    "xrpm=imputer.transform(xrpm)"
   ]
  },
  {
   "cell_type": "code",
   "execution_count": 113,
   "id": "6dcfb98d",
   "metadata": {},
   "outputs": [],
   "source": [
    "X[:,index_no]=xrpm.reshape(1,-1)"
   ]
  },
  {
   "cell_type": "code",
   "execution_count": 114,
   "id": "b9e166d1",
   "metadata": {},
   "outputs": [
    {
     "data": {
      "text/plain": [
       "array([1.14      , 1.03      , 0.81      , ..., 1.43152958, 1.43152958,\n",
       "       1.43152958])"
      ]
     },
     "execution_count": 114,
     "metadata": {},
     "output_type": "execute_result"
    }
   ],
   "source": [
    "X[:,index_no]"
   ]
  },
  {
   "cell_type": "markdown",
   "id": "011ea6b9",
   "metadata": {},
   "source": [
    "## Splitting the dataset into the Training set and Test set"
   ]
  },
  {
   "cell_type": "code",
   "execution_count": 115,
   "id": "73c5e71d",
   "metadata": {},
   "outputs": [],
   "source": [
    "from sklearn.model_selection import train_test_split\n",
    "X_train, X_test, y_train, y_test = train_test_split(X, y, test_size = 0.2, random_state = 0)"
   ]
  },
  {
   "cell_type": "markdown",
   "id": "4e523b72",
   "metadata": {},
   "source": [
    "## Training the Multiple Linear Regression model on the Training set"
   ]
  },
  {
   "cell_type": "code",
   "execution_count": 116,
   "id": "bfaed3a6",
   "metadata": {},
   "outputs": [
    {
     "data": {
      "text/plain": [
       "LinearRegression()"
      ]
     },
     "execution_count": 116,
     "metadata": {},
     "output_type": "execute_result"
    }
   ],
   "source": [
    "from sklearn.linear_model import LinearRegression\n",
    "regressor = LinearRegression()\n",
    "regressor.fit(X_train,y_train)"
   ]
  },
  {
   "cell_type": "code",
   "execution_count": 117,
   "id": "fd9c7828",
   "metadata": {},
   "outputs": [],
   "source": [
    "y_pred = regressor.predict(X_test)"
   ]
  },
  {
   "cell_type": "code",
   "execution_count": 118,
   "id": "65e6cef5",
   "metadata": {},
   "outputs": [
    {
     "data": {
      "text/plain": [
       "array([145.2795166 , 571.66962965, 293.35515863, ...,  93.20314196,\n",
       "       552.75159202, 175.12595579])"
      ]
     },
     "execution_count": 118,
     "metadata": {},
     "output_type": "execute_result"
    }
   ],
   "source": [
    "y_pred"
   ]
  },
  {
   "cell_type": "code",
   "execution_count": 119,
   "id": "0308c5b0",
   "metadata": {},
   "outputs": [
    {
     "data": {
      "text/plain": [
       "array([  72, 1950,  183, ...,   85,   60,  131], dtype=int64)"
      ]
     },
     "execution_count": 119,
     "metadata": {},
     "output_type": "execute_result"
    }
   ],
   "source": [
    "y_test"
   ]
  },
  {
   "cell_type": "code",
   "execution_count": 123,
   "id": "605f104f",
   "metadata": {},
   "outputs": [
    {
     "data": {
      "text/plain": [
       "505.6940061734732"
      ]
     },
     "execution_count": 123,
     "metadata": {},
     "output_type": "execute_result"
    }
   ],
   "source": [
    "y_pred = regressor.predict(X_test)\n",
    "\n",
    "from sklearn.metrics import mean_squared_error\n",
    "mean_squared_error(y_test, y_pred, squared=False)"
   ]
  },
  {
   "cell_type": "code",
   "execution_count": 126,
   "id": "f777e43a",
   "metadata": {},
   "outputs": [
    {
     "data": {
      "text/plain": [
       "219.76152133400026"
      ]
     },
     "execution_count": 126,
     "metadata": {},
     "output_type": "execute_result"
    }
   ],
   "source": [
    "df2.price.mean()"
   ]
  },
  {
   "cell_type": "markdown",
   "id": "1c4c8290",
   "metadata": {},
   "source": [
    "## Training the Decision Tree Regression model on the whole dataset"
   ]
  },
  {
   "cell_type": "code",
   "execution_count": 127,
   "id": "6730d6d0",
   "metadata": {},
   "outputs": [
    {
     "data": {
      "text/plain": [
       "DecisionTreeRegressor(random_state=0)"
      ]
     },
     "execution_count": 127,
     "metadata": {},
     "output_type": "execute_result"
    }
   ],
   "source": [
    "from sklearn.tree import DecisionTreeRegressor\n",
    "regressor = DecisionTreeRegressor(random_state=0)\n",
    "regressor.fit(X,y)"
   ]
  },
  {
   "cell_type": "code",
   "execution_count": 128,
   "id": "7f5b4c30",
   "metadata": {},
   "outputs": [
    {
     "data": {
      "text/plain": [
       "196.94244045773362"
      ]
     },
     "execution_count": 128,
     "metadata": {},
     "output_type": "execute_result"
    }
   ],
   "source": [
    "y_pred = regressor.predict(X_test)\n",
    "\n",
    "from sklearn.metrics import mean_squared_error\n",
    "mean_squared_error(y_test, y_pred, squared=False)"
   ]
  },
  {
   "cell_type": "markdown",
   "id": "8e2dcf80",
   "metadata": {},
   "source": [
    "## Training the Random Forest Regression model on the whole dataset"
   ]
  },
  {
   "cell_type": "code",
   "execution_count": 129,
   "id": "d2f3d0a3",
   "metadata": {},
   "outputs": [
    {
     "data": {
      "text/plain": [
       "RandomForestRegressor(n_estimators=10, random_state=0)"
      ]
     },
     "execution_count": 129,
     "metadata": {},
     "output_type": "execute_result"
    }
   ],
   "source": [
    "from sklearn.ensemble import RandomForestRegressor\n",
    "regressor = RandomForestRegressor(n_estimators=10, random_state=0)\n",
    "regressor.fit(X,y)"
   ]
  },
  {
   "cell_type": "code",
   "execution_count": 130,
   "id": "6bde03db",
   "metadata": {},
   "outputs": [
    {
     "data": {
      "text/plain": [
       "263.32937330451705"
      ]
     },
     "execution_count": 130,
     "metadata": {},
     "output_type": "execute_result"
    }
   ],
   "source": [
    "y_pred = regressor.predict(X_test)\n",
    "\n",
    "from sklearn.metrics import mean_squared_error\n",
    "mean_squared_error(y_test, y_pred, squared=False)"
   ]
  },
  {
   "cell_type": "code",
   "execution_count": null,
   "id": "22d5fbe1",
   "metadata": {},
   "outputs": [
    {
     "name": "stderr",
     "output_type": "stream",
     "text": [
      "C:\\Users\\sohmt\\Python310\\lib\\site-packages\\sklearn\\ensemble\\_forest.py:388: FutureWarning: Criterion 'mse' was deprecated in v1.0 and will be removed in version 1.2. Use `criterion='squared_error'` which is equivalent.\n",
      "  warn(\n",
      "C:\\Users\\sohmt\\Python310\\lib\\site-packages\\sklearn\\ensemble\\_forest.py:388: FutureWarning: Criterion 'mse' was deprecated in v1.0 and will be removed in version 1.2. Use `criterion='squared_error'` which is equivalent.\n",
      "  warn(\n",
      "C:\\Users\\sohmt\\Python310\\lib\\site-packages\\sklearn\\ensemble\\_forest.py:388: FutureWarning: Criterion 'mse' was deprecated in v1.0 and will be removed in version 1.2. Use `criterion='squared_error'` which is equivalent.\n",
      "  warn(\n",
      "C:\\Users\\sohmt\\Python310\\lib\\site-packages\\sklearn\\ensemble\\_forest.py:388: FutureWarning: Criterion 'mse' was deprecated in v1.0 and will be removed in version 1.2. Use `criterion='squared_error'` which is equivalent.\n",
      "  warn(\n",
      "C:\\Users\\sohmt\\Python310\\lib\\site-packages\\sklearn\\ensemble\\_forest.py:388: FutureWarning: Criterion 'mse' was deprecated in v1.0 and will be removed in version 1.2. Use `criterion='squared_error'` which is equivalent.\n",
      "  warn(\n",
      "C:\\Users\\sohmt\\Python310\\lib\\site-packages\\sklearn\\ensemble\\_forest.py:388: FutureWarning: Criterion 'mse' was deprecated in v1.0 and will be removed in version 1.2. Use `criterion='squared_error'` which is equivalent.\n",
      "  warn(\n",
      "C:\\Users\\sohmt\\Python310\\lib\\site-packages\\sklearn\\ensemble\\_forest.py:388: FutureWarning: Criterion 'mse' was deprecated in v1.0 and will be removed in version 1.2. Use `criterion='squared_error'` which is equivalent.\n",
      "  warn(\n",
      "C:\\Users\\sohmt\\Python310\\lib\\site-packages\\sklearn\\ensemble\\_forest.py:388: FutureWarning: Criterion 'mse' was deprecated in v1.0 and will be removed in version 1.2. Use `criterion='squared_error'` which is equivalent.\n",
      "  warn(\n",
      "C:\\Users\\sohmt\\Python310\\lib\\site-packages\\sklearn\\ensemble\\_forest.py:388: FutureWarning: Criterion 'mse' was deprecated in v1.0 and will be removed in version 1.2. Use `criterion='squared_error'` which is equivalent.\n",
      "  warn(\n",
      "C:\\Users\\sohmt\\Python310\\lib\\site-packages\\sklearn\\ensemble\\_forest.py:388: FutureWarning: Criterion 'mse' was deprecated in v1.0 and will be removed in version 1.2. Use `criterion='squared_error'` which is equivalent.\n",
      "  warn(\n",
      "C:\\Users\\sohmt\\Python310\\lib\\site-packages\\sklearn\\ensemble\\_forest.py:388: FutureWarning: Criterion 'mse' was deprecated in v1.0 and will be removed in version 1.2. Use `criterion='squared_error'` which is equivalent.\n",
      "  warn(\n",
      "C:\\Users\\sohmt\\Python310\\lib\\site-packages\\sklearn\\ensemble\\_forest.py:388: FutureWarning: Criterion 'mse' was deprecated in v1.0 and will be removed in version 1.2. Use `criterion='squared_error'` which is equivalent.\n",
      "  warn(\n",
      "C:\\Users\\sohmt\\Python310\\lib\\site-packages\\sklearn\\ensemble\\_forest.py:388: FutureWarning: Criterion 'mse' was deprecated in v1.0 and will be removed in version 1.2. Use `criterion='squared_error'` which is equivalent.\n",
      "  warn(\n",
      "C:\\Users\\sohmt\\Python310\\lib\\site-packages\\sklearn\\ensemble\\_forest.py:388: FutureWarning: Criterion 'mse' was deprecated in v1.0 and will be removed in version 1.2. Use `criterion='squared_error'` which is equivalent.\n",
      "  warn(\n",
      "C:\\Users\\sohmt\\Python310\\lib\\site-packages\\sklearn\\ensemble\\_forest.py:388: FutureWarning: Criterion 'mse' was deprecated in v1.0 and will be removed in version 1.2. Use `criterion='squared_error'` which is equivalent.\n",
      "  warn(\n",
      "C:\\Users\\sohmt\\Python310\\lib\\site-packages\\sklearn\\ensemble\\_forest.py:388: FutureWarning: Criterion 'mse' was deprecated in v1.0 and will be removed in version 1.2. Use `criterion='squared_error'` which is equivalent.\n",
      "  warn(\n",
      "C:\\Users\\sohmt\\Python310\\lib\\site-packages\\sklearn\\ensemble\\_forest.py:388: FutureWarning: Criterion 'mse' was deprecated in v1.0 and will be removed in version 1.2. Use `criterion='squared_error'` which is equivalent.\n",
      "  warn(\n",
      "C:\\Users\\sohmt\\Python310\\lib\\site-packages\\sklearn\\ensemble\\_forest.py:388: FutureWarning: Criterion 'mse' was deprecated in v1.0 and will be removed in version 1.2. Use `criterion='squared_error'` which is equivalent.\n",
      "  warn(\n",
      "C:\\Users\\sohmt\\Python310\\lib\\site-packages\\sklearn\\ensemble\\_forest.py:388: FutureWarning: Criterion 'mse' was deprecated in v1.0 and will be removed in version 1.2. Use `criterion='squared_error'` which is equivalent.\n",
      "  warn(\n",
      "C:\\Users\\sohmt\\Python310\\lib\\site-packages\\sklearn\\ensemble\\_forest.py:388: FutureWarning: Criterion 'mse' was deprecated in v1.0 and will be removed in version 1.2. Use `criterion='squared_error'` which is equivalent.\n",
      "  warn(\n",
      "C:\\Users\\sohmt\\Python310\\lib\\site-packages\\sklearn\\ensemble\\_forest.py:388: FutureWarning: Criterion 'mse' was deprecated in v1.0 and will be removed in version 1.2. Use `criterion='squared_error'` which is equivalent.\n",
      "  warn(\n"
     ]
    }
   ],
   "source": [
    "from sklearn.model_selection import GridSearchCV\n",
    "parameters = {'n_estimators':range(10,300,10), 'criterion':('mse','mae'), 'max_features':('auto','sqrt','log2')}\n",
    "\n",
    "rf = RandomForestRegressor()\n",
    "\n",
    "gs = GridSearchCV(rf,parameters,scoring='neg_mean_absolute_error',cv=3)\n",
    "gs.fit(X_train,y_train)"
   ]
  },
  {
   "cell_type": "code",
   "execution_count": null,
   "id": "dab8a895",
   "metadata": {},
   "outputs": [],
   "source": []
  }
 ],
 "metadata": {
  "kernelspec": {
   "display_name": "Python 3 (ipykernel)",
   "language": "python",
   "name": "python3"
  },
  "language_info": {
   "codemirror_mode": {
    "name": "ipython",
    "version": 3
   },
   "file_extension": ".py",
   "mimetype": "text/x-python",
   "name": "python",
   "nbconvert_exporter": "python",
   "pygments_lexer": "ipython3",
   "version": "3.10.0"
  }
 },
 "nbformat": 4,
 "nbformat_minor": 5
}
