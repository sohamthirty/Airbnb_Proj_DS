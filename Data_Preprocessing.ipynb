{
 "cells": [
  {
   "cell_type": "markdown",
   "id": "d5b54dfd",
   "metadata": {},
   "source": [
    "# Data Preprocessing"
   ]
  },
  {
   "cell_type": "markdown",
   "id": "a01fb412",
   "metadata": {
    "heading_collapsed": true
   },
   "source": [
    "## Importing the libraries"
   ]
  },
  {
   "cell_type": "code",
   "execution_count": 558,
   "id": "7c2e1d38",
   "metadata": {
    "hidden": true
   },
   "outputs": [],
   "source": [
    "import pandas as pd\n",
    "import numpy as np\n",
    "import matplotlib.pyplot as plt"
   ]
  },
  {
   "cell_type": "markdown",
   "id": "e3939d00",
   "metadata": {
    "heading_collapsed": true
   },
   "source": [
    "## Importing the dataset"
   ]
  },
  {
   "cell_type": "code",
   "execution_count": 559,
   "id": "b2990eac",
   "metadata": {
    "hidden": true
   },
   "outputs": [
    {
     "name": "stderr",
     "output_type": "stream",
     "text": [
      "C:\\Users\\sohmt\\Python310\\lib\\site-packages\\IPython\\core\\interactiveshell.py:3444: DtypeWarning: Columns (4) have mixed types.Specify dtype option on import or set low_memory=False.\n",
      "  exec(code_obj, self.user_global_ns, self.user_ns)\n"
     ]
    }
   ],
   "source": [
    "df=pd.read_csv('AB_US_2020.csv')"
   ]
  },
  {
   "cell_type": "markdown",
   "id": "d5f8bf36",
   "metadata": {
    "hidden": true
   },
   "source": [
    "for handling the DtypeWarning: Columns (4) have mixed types.Specify dtype option on import or set low_memory=False.\n",
    "\n",
    "https://www.roelpeters.be/solved-dtypewarning-columns-have-mixed-types-specify-dtype-option-on-import-or-set-low-memory-in-pandas/"
   ]
  },
  {
   "cell_type": "code",
   "execution_count": 560,
   "id": "1df5441f",
   "metadata": {
    "hidden": true
   },
   "outputs": [],
   "source": [
    "df=pd.read_csv('AB_US_2020.csv', low_memory=False)"
   ]
  },
  {
   "cell_type": "code",
   "execution_count": 561,
   "id": "f9cb5b5e",
   "metadata": {
    "hidden": true
   },
   "outputs": [
    {
     "data": {
      "text/plain": [
       "(226030, 17)"
      ]
     },
     "execution_count": 561,
     "metadata": {},
     "output_type": "execute_result"
    }
   ],
   "source": [
    "df.shape"
   ]
  },
  {
   "cell_type": "code",
   "execution_count": 562,
   "id": "14f3461c",
   "metadata": {
    "hidden": true
   },
   "outputs": [
    {
     "data": {
      "text/plain": [
       "Index(['id', 'name', 'host_id', 'host_name', 'neighbourhood_group',\n",
       "       'neighbourhood', 'latitude', 'longitude', 'room_type', 'price',\n",
       "       'minimum_nights', 'number_of_reviews', 'last_review',\n",
       "       'reviews_per_month', 'calculated_host_listings_count',\n",
       "       'availability_365', 'city'],\n",
       "      dtype='object')"
      ]
     },
     "execution_count": 562,
     "metadata": {},
     "output_type": "execute_result"
    }
   ],
   "source": [
    "df.columns"
   ]
  },
  {
   "cell_type": "code",
   "execution_count": 563,
   "id": "ec258a5d",
   "metadata": {
    "hidden": true
   },
   "outputs": [
    {
     "data": {
      "text/html": [
       "<div>\n",
       "<style scoped>\n",
       "    .dataframe tbody tr th:only-of-type {\n",
       "        vertical-align: middle;\n",
       "    }\n",
       "\n",
       "    .dataframe tbody tr th {\n",
       "        vertical-align: top;\n",
       "    }\n",
       "\n",
       "    .dataframe thead th {\n",
       "        text-align: right;\n",
       "    }\n",
       "</style>\n",
       "<table border=\"1\" class=\"dataframe\">\n",
       "  <thead>\n",
       "    <tr style=\"text-align: right;\">\n",
       "      <th></th>\n",
       "      <th>id</th>\n",
       "      <th>name</th>\n",
       "      <th>host_id</th>\n",
       "      <th>host_name</th>\n",
       "      <th>neighbourhood_group</th>\n",
       "      <th>neighbourhood</th>\n",
       "      <th>latitude</th>\n",
       "      <th>longitude</th>\n",
       "      <th>room_type</th>\n",
       "      <th>price</th>\n",
       "      <th>minimum_nights</th>\n",
       "      <th>number_of_reviews</th>\n",
       "      <th>last_review</th>\n",
       "      <th>reviews_per_month</th>\n",
       "      <th>calculated_host_listings_count</th>\n",
       "      <th>availability_365</th>\n",
       "      <th>city</th>\n",
       "    </tr>\n",
       "  </thead>\n",
       "  <tbody>\n",
       "    <tr>\n",
       "      <th>0</th>\n",
       "      <td>38585</td>\n",
       "      <td>Charming Victorian home - twin beds + breakfast</td>\n",
       "      <td>165529</td>\n",
       "      <td>Evelyne</td>\n",
       "      <td>NaN</td>\n",
       "      <td>28804</td>\n",
       "      <td>35.65146</td>\n",
       "      <td>-82.62792</td>\n",
       "      <td>Private room</td>\n",
       "      <td>60</td>\n",
       "      <td>1</td>\n",
       "      <td>138</td>\n",
       "      <td>16/02/20</td>\n",
       "      <td>1.14</td>\n",
       "      <td>1</td>\n",
       "      <td>0</td>\n",
       "      <td>Asheville</td>\n",
       "    </tr>\n",
       "    <tr>\n",
       "      <th>1</th>\n",
       "      <td>80905</td>\n",
       "      <td>French Chic Loft</td>\n",
       "      <td>427027</td>\n",
       "      <td>Celeste</td>\n",
       "      <td>NaN</td>\n",
       "      <td>28801</td>\n",
       "      <td>35.59779</td>\n",
       "      <td>-82.55540</td>\n",
       "      <td>Entire home/apt</td>\n",
       "      <td>470</td>\n",
       "      <td>1</td>\n",
       "      <td>114</td>\n",
       "      <td>07/09/20</td>\n",
       "      <td>1.03</td>\n",
       "      <td>11</td>\n",
       "      <td>288</td>\n",
       "      <td>Asheville</td>\n",
       "    </tr>\n",
       "    <tr>\n",
       "      <th>2</th>\n",
       "      <td>108061</td>\n",
       "      <td>Walk to stores/parks/downtown. Fenced yard/Pet...</td>\n",
       "      <td>320564</td>\n",
       "      <td>Lisa</td>\n",
       "      <td>NaN</td>\n",
       "      <td>28801</td>\n",
       "      <td>35.60670</td>\n",
       "      <td>-82.55563</td>\n",
       "      <td>Entire home/apt</td>\n",
       "      <td>75</td>\n",
       "      <td>30</td>\n",
       "      <td>89</td>\n",
       "      <td>30/11/19</td>\n",
       "      <td>0.81</td>\n",
       "      <td>2</td>\n",
       "      <td>298</td>\n",
       "      <td>Asheville</td>\n",
       "    </tr>\n",
       "    <tr>\n",
       "      <th>3</th>\n",
       "      <td>155305</td>\n",
       "      <td>Cottage! BonPaul + Sharky's Hostel</td>\n",
       "      <td>746673</td>\n",
       "      <td>BonPaul</td>\n",
       "      <td>NaN</td>\n",
       "      <td>28806</td>\n",
       "      <td>35.57864</td>\n",
       "      <td>-82.59578</td>\n",
       "      <td>Entire home/apt</td>\n",
       "      <td>90</td>\n",
       "      <td>1</td>\n",
       "      <td>267</td>\n",
       "      <td>22/09/20</td>\n",
       "      <td>2.39</td>\n",
       "      <td>5</td>\n",
       "      <td>0</td>\n",
       "      <td>Asheville</td>\n",
       "    </tr>\n",
       "    <tr>\n",
       "      <th>4</th>\n",
       "      <td>160594</td>\n",
       "      <td>Historic Grove Park</td>\n",
       "      <td>769252</td>\n",
       "      <td>Elizabeth</td>\n",
       "      <td>NaN</td>\n",
       "      <td>28801</td>\n",
       "      <td>35.61442</td>\n",
       "      <td>-82.54127</td>\n",
       "      <td>Private room</td>\n",
       "      <td>125</td>\n",
       "      <td>30</td>\n",
       "      <td>58</td>\n",
       "      <td>19/10/15</td>\n",
       "      <td>0.52</td>\n",
       "      <td>1</td>\n",
       "      <td>0</td>\n",
       "      <td>Asheville</td>\n",
       "    </tr>\n",
       "  </tbody>\n",
       "</table>\n",
       "</div>"
      ],
      "text/plain": [
       "       id                                               name  host_id  \\\n",
       "0   38585    Charming Victorian home - twin beds + breakfast   165529   \n",
       "1   80905                                   French Chic Loft   427027   \n",
       "2  108061  Walk to stores/parks/downtown. Fenced yard/Pet...   320564   \n",
       "3  155305                 Cottage! BonPaul + Sharky's Hostel   746673   \n",
       "4  160594                                Historic Grove Park   769252   \n",
       "\n",
       "   host_name neighbourhood_group neighbourhood  latitude  longitude  \\\n",
       "0    Evelyne                 NaN         28804  35.65146  -82.62792   \n",
       "1    Celeste                 NaN         28801  35.59779  -82.55540   \n",
       "2       Lisa                 NaN         28801  35.60670  -82.55563   \n",
       "3    BonPaul                 NaN         28806  35.57864  -82.59578   \n",
       "4  Elizabeth                 NaN         28801  35.61442  -82.54127   \n",
       "\n",
       "         room_type  price  minimum_nights  number_of_reviews last_review  \\\n",
       "0     Private room     60               1                138    16/02/20   \n",
       "1  Entire home/apt    470               1                114    07/09/20   \n",
       "2  Entire home/apt     75              30                 89    30/11/19   \n",
       "3  Entire home/apt     90               1                267    22/09/20   \n",
       "4     Private room    125              30                 58    19/10/15   \n",
       "\n",
       "   reviews_per_month  calculated_host_listings_count  availability_365  \\\n",
       "0               1.14                               1                 0   \n",
       "1               1.03                              11               288   \n",
       "2               0.81                               2               298   \n",
       "3               2.39                               5                 0   \n",
       "4               0.52                               1                 0   \n",
       "\n",
       "        city  \n",
       "0  Asheville  \n",
       "1  Asheville  \n",
       "2  Asheville  \n",
       "3  Asheville  \n",
       "4  Asheville  "
      ]
     },
     "execution_count": 563,
     "metadata": {},
     "output_type": "execute_result"
    }
   ],
   "source": [
    "df.head()"
   ]
  },
  {
   "cell_type": "code",
   "execution_count": 564,
   "id": "78c11759",
   "metadata": {
    "hidden": true
   },
   "outputs": [],
   "source": [
    "df_ch = df[df['neighbourhood_group']=='Manhattan']"
   ]
  },
  {
   "cell_type": "code",
   "execution_count": 565,
   "id": "d0e1a0e7",
   "metadata": {
    "hidden": true
   },
   "outputs": [
    {
     "data": {
      "text/plain": [
       "(20236, 17)"
      ]
     },
     "execution_count": 565,
     "metadata": {},
     "output_type": "execute_result"
    }
   ],
   "source": [
    "df_ch.shape"
   ]
  },
  {
   "cell_type": "code",
   "execution_count": 566,
   "id": "f8728a0c",
   "metadata": {
    "hidden": true
   },
   "outputs": [
    {
     "data": {
      "text/html": [
       "<div>\n",
       "<style scoped>\n",
       "    .dataframe tbody tr th:only-of-type {\n",
       "        vertical-align: middle;\n",
       "    }\n",
       "\n",
       "    .dataframe tbody tr th {\n",
       "        vertical-align: top;\n",
       "    }\n",
       "\n",
       "    .dataframe thead th {\n",
       "        text-align: right;\n",
       "    }\n",
       "</style>\n",
       "<table border=\"1\" class=\"dataframe\">\n",
       "  <thead>\n",
       "    <tr style=\"text-align: right;\">\n",
       "      <th></th>\n",
       "      <th>id</th>\n",
       "      <th>name</th>\n",
       "      <th>host_id</th>\n",
       "      <th>host_name</th>\n",
       "      <th>neighbourhood_group</th>\n",
       "      <th>neighbourhood</th>\n",
       "      <th>latitude</th>\n",
       "      <th>longitude</th>\n",
       "      <th>room_type</th>\n",
       "      <th>price</th>\n",
       "      <th>minimum_nights</th>\n",
       "      <th>number_of_reviews</th>\n",
       "      <th>last_review</th>\n",
       "      <th>reviews_per_month</th>\n",
       "      <th>calculated_host_listings_count</th>\n",
       "      <th>availability_365</th>\n",
       "      <th>city</th>\n",
       "    </tr>\n",
       "  </thead>\n",
       "  <tbody>\n",
       "    <tr>\n",
       "      <th>117155</th>\n",
       "      <td>2595</td>\n",
       "      <td>Skylit Midtown Castle</td>\n",
       "      <td>2845</td>\n",
       "      <td>Jennifer</td>\n",
       "      <td>Manhattan</td>\n",
       "      <td>Midtown</td>\n",
       "      <td>40.75362</td>\n",
       "      <td>-73.98377</td>\n",
       "      <td>Entire home/apt</td>\n",
       "      <td>175</td>\n",
       "      <td>3</td>\n",
       "      <td>48</td>\n",
       "      <td>04/11/19</td>\n",
       "      <td>0.37</td>\n",
       "      <td>2</td>\n",
       "      <td>365</td>\n",
       "      <td>New York City</td>\n",
       "    </tr>\n",
       "    <tr>\n",
       "      <th>117159</th>\n",
       "      <td>5178</td>\n",
       "      <td>Large Furnished Room Near B'way„ÄÄ</td>\n",
       "      <td>8967</td>\n",
       "      <td>Shunichi</td>\n",
       "      <td>Manhattan</td>\n",
       "      <td>Hell's Kitchen</td>\n",
       "      <td>40.76489</td>\n",
       "      <td>-73.98493</td>\n",
       "      <td>Private room</td>\n",
       "      <td>79</td>\n",
       "      <td>2</td>\n",
       "      <td>473</td>\n",
       "      <td>15/03/20</td>\n",
       "      <td>3.42</td>\n",
       "      <td>1</td>\n",
       "      <td>346</td>\n",
       "      <td>New York City</td>\n",
       "    </tr>\n",
       "    <tr>\n",
       "      <th>117160</th>\n",
       "      <td>5203</td>\n",
       "      <td>Cozy Clean Guest Room - Family Apt</td>\n",
       "      <td>7490</td>\n",
       "      <td>MaryEllen</td>\n",
       "      <td>Manhattan</td>\n",
       "      <td>Upper West Side</td>\n",
       "      <td>40.80178</td>\n",
       "      <td>-73.96723</td>\n",
       "      <td>Private room</td>\n",
       "      <td>75</td>\n",
       "      <td>2</td>\n",
       "      <td>118</td>\n",
       "      <td>21/07/17</td>\n",
       "      <td>0.88</td>\n",
       "      <td>1</td>\n",
       "      <td>0</td>\n",
       "      <td>New York City</td>\n",
       "    </tr>\n",
       "    <tr>\n",
       "      <th>117161</th>\n",
       "      <td>5238</td>\n",
       "      <td>Cute &amp; Cozy Lower East Side 1 bdrm</td>\n",
       "      <td>7549</td>\n",
       "      <td>Ben</td>\n",
       "      <td>Manhattan</td>\n",
       "      <td>Chinatown</td>\n",
       "      <td>40.71344</td>\n",
       "      <td>-73.99037</td>\n",
       "      <td>Entire home/apt</td>\n",
       "      <td>140</td>\n",
       "      <td>1</td>\n",
       "      <td>161</td>\n",
       "      <td>29/07/19</td>\n",
       "      <td>1.20</td>\n",
       "      <td>4</td>\n",
       "      <td>288</td>\n",
       "      <td>New York City</td>\n",
       "    </tr>\n",
       "    <tr>\n",
       "      <th>117162</th>\n",
       "      <td>5552</td>\n",
       "      <td>Spacious river view in the West Village</td>\n",
       "      <td>8380</td>\n",
       "      <td>Maria</td>\n",
       "      <td>Manhattan</td>\n",
       "      <td>West Village</td>\n",
       "      <td>40.73552</td>\n",
       "      <td>-74.01042</td>\n",
       "      <td>Entire home/apt</td>\n",
       "      <td>160</td>\n",
       "      <td>3</td>\n",
       "      <td>66</td>\n",
       "      <td>10/08/19</td>\n",
       "      <td>0.49</td>\n",
       "      <td>1</td>\n",
       "      <td>96</td>\n",
       "      <td>New York City</td>\n",
       "    </tr>\n",
       "  </tbody>\n",
       "</table>\n",
       "</div>"
      ],
      "text/plain": [
       "          id                                     name  host_id  host_name  \\\n",
       "117155  2595                    Skylit Midtown Castle     2845   Jennifer   \n",
       "117159  5178       Large Furnished Room Near B'way„ÄÄ     8967   Shunichi   \n",
       "117160  5203       Cozy Clean Guest Room - Family Apt     7490  MaryEllen   \n",
       "117161  5238       Cute & Cozy Lower East Side 1 bdrm     7549        Ben   \n",
       "117162  5552  Spacious river view in the West Village     8380      Maria   \n",
       "\n",
       "       neighbourhood_group    neighbourhood  latitude  longitude  \\\n",
       "117155           Manhattan          Midtown  40.75362  -73.98377   \n",
       "117159           Manhattan   Hell's Kitchen  40.76489  -73.98493   \n",
       "117160           Manhattan  Upper West Side  40.80178  -73.96723   \n",
       "117161           Manhattan        Chinatown  40.71344  -73.99037   \n",
       "117162           Manhattan     West Village  40.73552  -74.01042   \n",
       "\n",
       "              room_type  price  minimum_nights  number_of_reviews last_review  \\\n",
       "117155  Entire home/apt    175               3                 48    04/11/19   \n",
       "117159     Private room     79               2                473    15/03/20   \n",
       "117160     Private room     75               2                118    21/07/17   \n",
       "117161  Entire home/apt    140               1                161    29/07/19   \n",
       "117162  Entire home/apt    160               3                 66    10/08/19   \n",
       "\n",
       "        reviews_per_month  calculated_host_listings_count  availability_365  \\\n",
       "117155               0.37                               2               365   \n",
       "117159               3.42                               1               346   \n",
       "117160               0.88                               1                 0   \n",
       "117161               1.20                               4               288   \n",
       "117162               0.49                               1                96   \n",
       "\n",
       "                 city  \n",
       "117155  New York City  \n",
       "117159  New York City  \n",
       "117160  New York City  \n",
       "117161  New York City  \n",
       "117162  New York City  "
      ]
     },
     "execution_count": 566,
     "metadata": {},
     "output_type": "execute_result"
    }
   ],
   "source": [
    "df_ch.head()"
   ]
  },
  {
   "cell_type": "code",
   "execution_count": 567,
   "id": "cc6d761a",
   "metadata": {
    "hidden": true
   },
   "outputs": [],
   "source": [
    "df_cht = df[df['price']==0]"
   ]
  },
  {
   "cell_type": "code",
   "execution_count": 568,
   "id": "b4fdca93",
   "metadata": {
    "hidden": true
   },
   "outputs": [
    {
     "data": {
      "text/plain": [
       "(62, 17)"
      ]
     },
     "execution_count": 568,
     "metadata": {},
     "output_type": "execute_result"
    }
   ],
   "source": [
    "df_cht.shape"
   ]
  },
  {
   "cell_type": "code",
   "execution_count": 569,
   "id": "ab6f318a",
   "metadata": {
    "hidden": true
   },
   "outputs": [
    {
     "data": {
      "text/html": [
       "<div>\n",
       "<style scoped>\n",
       "    .dataframe tbody tr th:only-of-type {\n",
       "        vertical-align: middle;\n",
       "    }\n",
       "\n",
       "    .dataframe tbody tr th {\n",
       "        vertical-align: top;\n",
       "    }\n",
       "\n",
       "    .dataframe thead th {\n",
       "        text-align: right;\n",
       "    }\n",
       "</style>\n",
       "<table border=\"1\" class=\"dataframe\">\n",
       "  <thead>\n",
       "    <tr style=\"text-align: right;\">\n",
       "      <th></th>\n",
       "      <th>id</th>\n",
       "      <th>name</th>\n",
       "      <th>host_id</th>\n",
       "      <th>host_name</th>\n",
       "      <th>neighbourhood_group</th>\n",
       "      <th>neighbourhood</th>\n",
       "      <th>latitude</th>\n",
       "      <th>longitude</th>\n",
       "      <th>room_type</th>\n",
       "      <th>price</th>\n",
       "      <th>minimum_nights</th>\n",
       "      <th>number_of_reviews</th>\n",
       "      <th>last_review</th>\n",
       "      <th>reviews_per_month</th>\n",
       "      <th>calculated_host_listings_count</th>\n",
       "      <th>availability_365</th>\n",
       "      <th>city</th>\n",
       "    </tr>\n",
       "  </thead>\n",
       "  <tbody>\n",
       "    <tr>\n",
       "      <th>11106</th>\n",
       "      <td>42738847</td>\n",
       "      <td>Hotel Granduca Austin</td>\n",
       "      <td>314291208</td>\n",
       "      <td>Hotel Granduca</td>\n",
       "      <td>NaN</td>\n",
       "      <td>78746</td>\n",
       "      <td>30.30181</td>\n",
       "      <td>-97.82910</td>\n",
       "      <td>Hotel room</td>\n",
       "      <td>0</td>\n",
       "      <td>1</td>\n",
       "      <td>0</td>\n",
       "      <td>NaN</td>\n",
       "      <td>NaN</td>\n",
       "      <td>1</td>\n",
       "      <td>0</td>\n",
       "      <td>Austin</td>\n",
       "    </tr>\n",
       "    <tr>\n",
       "      <th>15171</th>\n",
       "      <td>41740613</td>\n",
       "      <td>The Revolution Hotel</td>\n",
       "      <td>228911273</td>\n",
       "      <td>The Revolution Hotel</td>\n",
       "      <td>NaN</td>\n",
       "      <td>South End</td>\n",
       "      <td>42.34591</td>\n",
       "      <td>-71.07090</td>\n",
       "      <td>Hotel room</td>\n",
       "      <td>0</td>\n",
       "      <td>1</td>\n",
       "      <td>0</td>\n",
       "      <td>NaN</td>\n",
       "      <td>NaN</td>\n",
       "      <td>1</td>\n",
       "      <td>0</td>\n",
       "      <td>Boston</td>\n",
       "    </tr>\n",
       "    <tr>\n",
       "      <th>15218</th>\n",
       "      <td>42065558</td>\n",
       "      <td>Boston Fenway Inn</td>\n",
       "      <td>308490585</td>\n",
       "      <td>Boston Fenway Inn</td>\n",
       "      <td>NaN</td>\n",
       "      <td>Fenway</td>\n",
       "      <td>42.34637</td>\n",
       "      <td>-71.08882</td>\n",
       "      <td>Hotel room</td>\n",
       "      <td>0</td>\n",
       "      <td>1</td>\n",
       "      <td>0</td>\n",
       "      <td>NaN</td>\n",
       "      <td>NaN</td>\n",
       "      <td>1</td>\n",
       "      <td>0</td>\n",
       "      <td>Boston</td>\n",
       "    </tr>\n",
       "    <tr>\n",
       "      <th>18071</th>\n",
       "      <td>18841208</td>\n",
       "      <td>GREAT LAKE VIEW ROOM FOR RENT</td>\n",
       "      <td>122563804</td>\n",
       "      <td>Francisco</td>\n",
       "      <td>NaN</td>\n",
       "      <td>Oakland Park</td>\n",
       "      <td>26.18349</td>\n",
       "      <td>-80.19390</td>\n",
       "      <td>Private room</td>\n",
       "      <td>0</td>\n",
       "      <td>1</td>\n",
       "      <td>1</td>\n",
       "      <td>29/06/17</td>\n",
       "      <td>0.03</td>\n",
       "      <td>1</td>\n",
       "      <td>0</td>\n",
       "      <td>Broward County</td>\n",
       "    </tr>\n",
       "    <tr>\n",
       "      <th>18344</th>\n",
       "      <td>20477892</td>\n",
       "      <td>Sea Esta 3 bedroom waterfront pool home</td>\n",
       "      <td>9743916</td>\n",
       "      <td>Michelle</td>\n",
       "      <td>NaN</td>\n",
       "      <td>Pompano Beach</td>\n",
       "      <td>26.21769</td>\n",
       "      <td>-80.10857</td>\n",
       "      <td>Entire home/apt</td>\n",
       "      <td>0</td>\n",
       "      <td>3</td>\n",
       "      <td>5</td>\n",
       "      <td>13/05/19</td>\n",
       "      <td>0.18</td>\n",
       "      <td>4</td>\n",
       "      <td>358</td>\n",
       "      <td>Broward County</td>\n",
       "    </tr>\n",
       "  </tbody>\n",
       "</table>\n",
       "</div>"
      ],
      "text/plain": [
       "             id                                     name    host_id  \\\n",
       "11106  42738847                    Hotel Granduca Austin  314291208   \n",
       "15171  41740613                     The Revolution Hotel  228911273   \n",
       "15218  42065558                        Boston Fenway Inn  308490585   \n",
       "18071  18841208            GREAT LAKE VIEW ROOM FOR RENT  122563804   \n",
       "18344  20477892  Sea Esta 3 bedroom waterfront pool home    9743916   \n",
       "\n",
       "                  host_name neighbourhood_group  neighbourhood  latitude  \\\n",
       "11106        Hotel Granduca                 NaN          78746  30.30181   \n",
       "15171  The Revolution Hotel                 NaN      South End  42.34591   \n",
       "15218     Boston Fenway Inn                 NaN         Fenway  42.34637   \n",
       "18071             Francisco                 NaN   Oakland Park  26.18349   \n",
       "18344              Michelle                 NaN  Pompano Beach  26.21769   \n",
       "\n",
       "       longitude        room_type  price  minimum_nights  number_of_reviews  \\\n",
       "11106  -97.82910       Hotel room      0               1                  0   \n",
       "15171  -71.07090       Hotel room      0               1                  0   \n",
       "15218  -71.08882       Hotel room      0               1                  0   \n",
       "18071  -80.19390     Private room      0               1                  1   \n",
       "18344  -80.10857  Entire home/apt      0               3                  5   \n",
       "\n",
       "      last_review  reviews_per_month  calculated_host_listings_count  \\\n",
       "11106         NaN                NaN                               1   \n",
       "15171         NaN                NaN                               1   \n",
       "15218         NaN                NaN                               1   \n",
       "18071    29/06/17               0.03                               1   \n",
       "18344    13/05/19               0.18                               4   \n",
       "\n",
       "       availability_365            city  \n",
       "11106                 0          Austin  \n",
       "15171                 0          Boston  \n",
       "15218                 0          Boston  \n",
       "18071                 0  Broward County  \n",
       "18344               358  Broward County  "
      ]
     },
     "execution_count": 569,
     "metadata": {},
     "output_type": "execute_result"
    }
   ],
   "source": [
    "df_cht.head()"
   ]
  },
  {
   "cell_type": "code",
   "execution_count": 570,
   "id": "a69377d2",
   "metadata": {
    "hidden": true
   },
   "outputs": [
    {
     "data": {
      "text/plain": [
       "id                                  int64\n",
       "name                               object\n",
       "host_id                             int64\n",
       "host_name                          object\n",
       "neighbourhood_group                object\n",
       "neighbourhood                      object\n",
       "latitude                          float64\n",
       "longitude                         float64\n",
       "room_type                          object\n",
       "price                               int64\n",
       "minimum_nights                      int64\n",
       "number_of_reviews                   int64\n",
       "last_review                        object\n",
       "reviews_per_month                 float64\n",
       "calculated_host_listings_count      int64\n",
       "availability_365                    int64\n",
       "city                               object\n",
       "dtype: object"
      ]
     },
     "execution_count": 570,
     "metadata": {},
     "output_type": "execute_result"
    }
   ],
   "source": [
    "df.dtypes"
   ]
  },
  {
   "cell_type": "code",
   "execution_count": 571,
   "id": "1ab80213",
   "metadata": {
    "hidden": true,
    "scrolled": true
   },
   "outputs": [
    {
     "data": {
      "text/plain": [
       "id                                     0\n",
       "name                                  28\n",
       "host_id                                0\n",
       "host_name                             33\n",
       "neighbourhood_group               115845\n",
       "neighbourhood                          0\n",
       "latitude                               0\n",
       "longitude                              0\n",
       "room_type                              0\n",
       "price                                  0\n",
       "minimum_nights                         0\n",
       "number_of_reviews                      0\n",
       "last_review                        48602\n",
       "reviews_per_month                  48602\n",
       "calculated_host_listings_count         0\n",
       "availability_365                       0\n",
       "city                                   0\n",
       "dtype: int64"
      ]
     },
     "execution_count": 571,
     "metadata": {},
     "output_type": "execute_result"
    }
   ],
   "source": [
    "df.isna().sum()"
   ]
  },
  {
   "cell_type": "raw",
   "id": "4ca36ffd",
   "metadata": {
    "hidden": true
   },
   "source": [
    "Columns with missing values:\n",
    "\n",
    "name                                  28 \n",
    "host_name                             33\n",
    "neighbourhood_group               115845\n",
    "last_review                        48602\n",
    "reviews_per_month                  48602"
   ]
  },
  {
   "cell_type": "code",
   "execution_count": 572,
   "id": "09dd2101",
   "metadata": {
    "hidden": true,
    "scrolled": true
   },
   "outputs": [
    {
     "data": {
      "text/plain": [
       "Home away from home                                75\n",
       "A place of your own | 2BR in Las Vegas             62\n",
       "Cozy place to call home | 1BR in Los Angeles       48\n",
       "Stay in a place of your own | 1BR in Washington    43\n",
       "Union Square Convention Hotel                      40\n",
       "                                                   ..\n",
       "Private Floor with Bedroom and Bath near Malibu     1\n",
       "Centrally located, beautiful, 2 bd                  1\n",
       "Magical 3 BR Spanish Designer Home!                 1\n",
       "Relax, Unwind & Have A Little Fun!                  1\n",
       "Beautiful large one-bedroom w/ washer and dryer     1\n",
       "Name: name, Length: 218443, dtype: int64"
      ]
     },
     "execution_count": 572,
     "metadata": {},
     "output_type": "execute_result"
    }
   ],
   "source": [
    "df.name.value_counts()"
   ]
  },
  {
   "cell_type": "code",
   "execution_count": 573,
   "id": "169509ab",
   "metadata": {
    "hidden": true
   },
   "outputs": [
    {
     "data": {
      "text/plain": [
       "Michael            2025\n",
       "David              1656\n",
       "John               1418\n",
       "Zeus               1217\n",
       "Blueground         1172\n",
       "                   ... \n",
       "Justin You            1\n",
       "Chavi                 1\n",
       "John And Laurie       1\n",
       "Jonie                 1\n",
       "Bassem                1\n",
       "Name: host_name, Length: 30533, dtype: int64"
      ]
     },
     "execution_count": 573,
     "metadata": {},
     "output_type": "execute_result"
    }
   ],
   "source": [
    "df.host_name.value_counts()"
   ]
  },
  {
   "cell_type": "code",
   "execution_count": 574,
   "id": "97014763",
   "metadata": {
    "hidden": true,
    "scrolled": true
   },
   "outputs": [
    {
     "data": {
      "text/plain": [
       "Manhattan               20236\n",
       "Brooklyn                18263\n",
       "City of Los Angeles     17544\n",
       "Other Cities            11463\n",
       "Maui                     7897\n",
       "Honolulu                 6313\n",
       "Queens                   5746\n",
       "Hawaii                   4977\n",
       "Kauai                    3247\n",
       "Unincorporated Areas     2529\n",
       "Newport                  1412\n",
       "Other neighborhoods      1253\n",
       "Washington               1201\n",
       "Bronx                    1185\n",
       "Providence               1056\n",
       "Downtown                 1043\n",
       "Capitol Hill              682\n",
       "Central Area              572\n",
       "Queen Anne                459\n",
       "West Seattle              378\n",
       "Ballard                   369\n",
       "Rainier Valley            357\n",
       "Staten Island             326\n",
       "Cascade                   268\n",
       "Beacon Hill               252\n",
       "University District       238\n",
       "Delridge                  201\n",
       "Northgate                 150\n",
       "Magnolia                  132\n",
       "Lake City                 118\n",
       "Kent                      108\n",
       "Bristol                   107\n",
       "Seward Park                69\n",
       "Interbay                   34\n",
       "Name: neighbourhood_group, dtype: int64"
      ]
     },
     "execution_count": 574,
     "metadata": {},
     "output_type": "execute_result"
    }
   ],
   "source": [
    "df.neighbourhood_group.value_counts()"
   ]
  },
  {
   "cell_type": "code",
   "execution_count": 575,
   "id": "e02a2ce2",
   "metadata": {
    "hidden": true,
    "scrolled": false
   },
   "outputs": [
    {
     "data": {
      "text/plain": [
       "15/03/20    2915\n",
       "07/09/20    2080\n",
       "08/03/20    1989\n",
       "23/08/20    1929\n",
       "16/03/20    1816\n",
       "            ... \n",
       "19/05/14       1\n",
       "01/05/15       1\n",
       "22/04/15       1\n",
       "23/03/14       1\n",
       "29/04/15       1\n",
       "Name: last_review, Length: 2377, dtype: int64"
      ]
     },
     "execution_count": 575,
     "metadata": {},
     "output_type": "execute_result"
    }
   ],
   "source": [
    "df.last_review.value_counts()"
   ]
  },
  {
   "cell_type": "code",
   "execution_count": 576,
   "id": "38e010d8",
   "metadata": {
    "hidden": true,
    "scrolled": true
   },
   "outputs": [
    {
     "data": {
      "text/plain": [
       "0.03     2836\n",
       "0.02     2758\n",
       "0.08     2525\n",
       "0.04     2482\n",
       "0.06     2407\n",
       "         ... \n",
       "12.91       1\n",
       "9.44        1\n",
       "13.34       1\n",
       "11.41       1\n",
       "9.45        1\n",
       "Name: reviews_per_month, Length: 1242, dtype: int64"
      ]
     },
     "execution_count": 576,
     "metadata": {},
     "output_type": "execute_result"
    }
   ],
   "source": [
    "df.reviews_per_month.value_counts()"
   ]
  },
  {
   "cell_type": "code",
   "execution_count": 577,
   "id": "2342d2b0",
   "metadata": {
    "hidden": true
   },
   "outputs": [
    {
     "data": {
      "text/plain": [
       "True"
      ]
     },
     "execution_count": 577,
     "metadata": {},
     "output_type": "execute_result"
    }
   ],
   "source": [
    "# Same indexes have null values for columns of 'reviews_per_month' & 'last_review'\n",
    "df[df['reviews_per_month'].isnull()].index.tolist()==df[df['last_review'].isnull()].index.tolist()"
   ]
  },
  {
   "cell_type": "code",
   "execution_count": 578,
   "id": "f90af745",
   "metadata": {
    "hidden": true
   },
   "outputs": [
    {
     "data": {
      "text/plain": [
       "array(['Private room', 'Entire home/apt', 'Hotel room', 'Shared room'],\n",
       "      dtype=object)"
      ]
     },
     "execution_count": 578,
     "metadata": {},
     "output_type": "execute_result"
    }
   ],
   "source": [
    "df.room_type.unique()"
   ]
  },
  {
   "cell_type": "code",
   "execution_count": 579,
   "id": "72cf5bd4",
   "metadata": {
    "hidden": true
   },
   "outputs": [],
   "source": [
    "percent_missing = df.isnull().sum() * 100 / len(df)\n",
    "missing_value_df = pd.DataFrame({'column_name': df.columns, 'percent_missing': percent_missing})"
   ]
  },
  {
   "cell_type": "code",
   "execution_count": 580,
   "id": "4f2be2ae",
   "metadata": {
    "hidden": true,
    "scrolled": true
   },
   "outputs": [
    {
     "data": {
      "text/html": [
       "<div>\n",
       "<style scoped>\n",
       "    .dataframe tbody tr th:only-of-type {\n",
       "        vertical-align: middle;\n",
       "    }\n",
       "\n",
       "    .dataframe tbody tr th {\n",
       "        vertical-align: top;\n",
       "    }\n",
       "\n",
       "    .dataframe thead th {\n",
       "        text-align: right;\n",
       "    }\n",
       "</style>\n",
       "<table border=\"1\" class=\"dataframe\">\n",
       "  <thead>\n",
       "    <tr style=\"text-align: right;\">\n",
       "      <th></th>\n",
       "      <th>column_name</th>\n",
       "      <th>percent_missing</th>\n",
       "    </tr>\n",
       "  </thead>\n",
       "  <tbody>\n",
       "    <tr>\n",
       "      <th>id</th>\n",
       "      <td>id</td>\n",
       "      <td>0.000000</td>\n",
       "    </tr>\n",
       "    <tr>\n",
       "      <th>name</th>\n",
       "      <td>name</td>\n",
       "      <td>0.012388</td>\n",
       "    </tr>\n",
       "    <tr>\n",
       "      <th>host_id</th>\n",
       "      <td>host_id</td>\n",
       "      <td>0.000000</td>\n",
       "    </tr>\n",
       "    <tr>\n",
       "      <th>host_name</th>\n",
       "      <td>host_name</td>\n",
       "      <td>0.014600</td>\n",
       "    </tr>\n",
       "    <tr>\n",
       "      <th>neighbourhood_group</th>\n",
       "      <td>neighbourhood_group</td>\n",
       "      <td>51.252046</td>\n",
       "    </tr>\n",
       "    <tr>\n",
       "      <th>neighbourhood</th>\n",
       "      <td>neighbourhood</td>\n",
       "      <td>0.000000</td>\n",
       "    </tr>\n",
       "    <tr>\n",
       "      <th>latitude</th>\n",
       "      <td>latitude</td>\n",
       "      <td>0.000000</td>\n",
       "    </tr>\n",
       "    <tr>\n",
       "      <th>longitude</th>\n",
       "      <td>longitude</td>\n",
       "      <td>0.000000</td>\n",
       "    </tr>\n",
       "    <tr>\n",
       "      <th>room_type</th>\n",
       "      <td>room_type</td>\n",
       "      <td>0.000000</td>\n",
       "    </tr>\n",
       "    <tr>\n",
       "      <th>price</th>\n",
       "      <td>price</td>\n",
       "      <td>0.000000</td>\n",
       "    </tr>\n",
       "    <tr>\n",
       "      <th>minimum_nights</th>\n",
       "      <td>minimum_nights</td>\n",
       "      <td>0.000000</td>\n",
       "    </tr>\n",
       "    <tr>\n",
       "      <th>number_of_reviews</th>\n",
       "      <td>number_of_reviews</td>\n",
       "      <td>0.000000</td>\n",
       "    </tr>\n",
       "    <tr>\n",
       "      <th>last_review</th>\n",
       "      <td>last_review</td>\n",
       "      <td>21.502455</td>\n",
       "    </tr>\n",
       "    <tr>\n",
       "      <th>reviews_per_month</th>\n",
       "      <td>reviews_per_month</td>\n",
       "      <td>21.502455</td>\n",
       "    </tr>\n",
       "    <tr>\n",
       "      <th>calculated_host_listings_count</th>\n",
       "      <td>calculated_host_listings_count</td>\n",
       "      <td>0.000000</td>\n",
       "    </tr>\n",
       "    <tr>\n",
       "      <th>availability_365</th>\n",
       "      <td>availability_365</td>\n",
       "      <td>0.000000</td>\n",
       "    </tr>\n",
       "    <tr>\n",
       "      <th>city</th>\n",
       "      <td>city</td>\n",
       "      <td>0.000000</td>\n",
       "    </tr>\n",
       "  </tbody>\n",
       "</table>\n",
       "</div>"
      ],
      "text/plain": [
       "                                                   column_name  \\\n",
       "id                                                          id   \n",
       "name                                                      name   \n",
       "host_id                                                host_id   \n",
       "host_name                                            host_name   \n",
       "neighbourhood_group                        neighbourhood_group   \n",
       "neighbourhood                                    neighbourhood   \n",
       "latitude                                              latitude   \n",
       "longitude                                            longitude   \n",
       "room_type                                            room_type   \n",
       "price                                                    price   \n",
       "minimum_nights                                  minimum_nights   \n",
       "number_of_reviews                            number_of_reviews   \n",
       "last_review                                        last_review   \n",
       "reviews_per_month                            reviews_per_month   \n",
       "calculated_host_listings_count  calculated_host_listings_count   \n",
       "availability_365                              availability_365   \n",
       "city                                                      city   \n",
       "\n",
       "                                percent_missing  \n",
       "id                                     0.000000  \n",
       "name                                   0.012388  \n",
       "host_id                                0.000000  \n",
       "host_name                              0.014600  \n",
       "neighbourhood_group                   51.252046  \n",
       "neighbourhood                          0.000000  \n",
       "latitude                               0.000000  \n",
       "longitude                              0.000000  \n",
       "room_type                              0.000000  \n",
       "price                                  0.000000  \n",
       "minimum_nights                         0.000000  \n",
       "number_of_reviews                      0.000000  \n",
       "last_review                           21.502455  \n",
       "reviews_per_month                     21.502455  \n",
       "calculated_host_listings_count         0.000000  \n",
       "availability_365                       0.000000  \n",
       "city                                   0.000000  "
      ]
     },
     "execution_count": 580,
     "metadata": {},
     "output_type": "execute_result"
    }
   ],
   "source": [
    "missing_value_df\n",
    "# 51% rows have missing 'neighbourhood_group'\n",
    "# 22% rows have missing 'last_review'\n",
    "# 22% rows have missing 'reviews_per_month'"
   ]
  },
  {
   "cell_type": "markdown",
   "id": "79ce84a8",
   "metadata": {
    "hidden": true
   },
   "source": [
    "Find out the percentage of missing values in each column in the given dataset:\n",
    "\n",
    "https://www.thiscodeworks.com/python-find-out-the-percentage-of-missing-values-in-each-column-in-the-given-dataset-stack-overflow-python/607d4c3f6013b5001411542c"
   ]
  },
  {
   "cell_type": "code",
   "execution_count": 581,
   "id": "87574c6c",
   "metadata": {
    "hidden": true,
    "scrolled": true
   },
   "outputs": [
    {
     "data": {
      "text/html": [
       "<div>\n",
       "<style scoped>\n",
       "    .dataframe tbody tr th:only-of-type {\n",
       "        vertical-align: middle;\n",
       "    }\n",
       "\n",
       "    .dataframe tbody tr th {\n",
       "        vertical-align: top;\n",
       "    }\n",
       "\n",
       "    .dataframe thead th {\n",
       "        text-align: right;\n",
       "    }\n",
       "</style>\n",
       "<table border=\"1\" class=\"dataframe\">\n",
       "  <thead>\n",
       "    <tr style=\"text-align: right;\">\n",
       "      <th></th>\n",
       "      <th>id</th>\n",
       "      <th>name</th>\n",
       "      <th>host_id</th>\n",
       "      <th>host_name</th>\n",
       "      <th>neighbourhood_group</th>\n",
       "      <th>neighbourhood</th>\n",
       "      <th>latitude</th>\n",
       "      <th>longitude</th>\n",
       "      <th>room_type</th>\n",
       "      <th>minimum_nights</th>\n",
       "      <th>number_of_reviews</th>\n",
       "      <th>last_review</th>\n",
       "      <th>reviews_per_month</th>\n",
       "      <th>calculated_host_listings_count</th>\n",
       "      <th>availability_365</th>\n",
       "      <th>city</th>\n",
       "      <th>price</th>\n",
       "    </tr>\n",
       "  </thead>\n",
       "  <tbody>\n",
       "    <tr>\n",
       "      <th>0</th>\n",
       "      <td>38585</td>\n",
       "      <td>Charming Victorian home - twin beds + breakfast</td>\n",
       "      <td>165529</td>\n",
       "      <td>Evelyne</td>\n",
       "      <td>NaN</td>\n",
       "      <td>28804</td>\n",
       "      <td>35.65146</td>\n",
       "      <td>-82.62792</td>\n",
       "      <td>Private room</td>\n",
       "      <td>1</td>\n",
       "      <td>138</td>\n",
       "      <td>16/02/20</td>\n",
       "      <td>1.14</td>\n",
       "      <td>1</td>\n",
       "      <td>0</td>\n",
       "      <td>Asheville</td>\n",
       "      <td>60</td>\n",
       "    </tr>\n",
       "    <tr>\n",
       "      <th>1</th>\n",
       "      <td>80905</td>\n",
       "      <td>French Chic Loft</td>\n",
       "      <td>427027</td>\n",
       "      <td>Celeste</td>\n",
       "      <td>NaN</td>\n",
       "      <td>28801</td>\n",
       "      <td>35.59779</td>\n",
       "      <td>-82.55540</td>\n",
       "      <td>Entire home/apt</td>\n",
       "      <td>1</td>\n",
       "      <td>114</td>\n",
       "      <td>07/09/20</td>\n",
       "      <td>1.03</td>\n",
       "      <td>11</td>\n",
       "      <td>288</td>\n",
       "      <td>Asheville</td>\n",
       "      <td>470</td>\n",
       "    </tr>\n",
       "    <tr>\n",
       "      <th>2</th>\n",
       "      <td>108061</td>\n",
       "      <td>Walk to stores/parks/downtown. Fenced yard/Pet...</td>\n",
       "      <td>320564</td>\n",
       "      <td>Lisa</td>\n",
       "      <td>NaN</td>\n",
       "      <td>28801</td>\n",
       "      <td>35.60670</td>\n",
       "      <td>-82.55563</td>\n",
       "      <td>Entire home/apt</td>\n",
       "      <td>30</td>\n",
       "      <td>89</td>\n",
       "      <td>30/11/19</td>\n",
       "      <td>0.81</td>\n",
       "      <td>2</td>\n",
       "      <td>298</td>\n",
       "      <td>Asheville</td>\n",
       "      <td>75</td>\n",
       "    </tr>\n",
       "    <tr>\n",
       "      <th>3</th>\n",
       "      <td>155305</td>\n",
       "      <td>Cottage! BonPaul + Sharky's Hostel</td>\n",
       "      <td>746673</td>\n",
       "      <td>BonPaul</td>\n",
       "      <td>NaN</td>\n",
       "      <td>28806</td>\n",
       "      <td>35.57864</td>\n",
       "      <td>-82.59578</td>\n",
       "      <td>Entire home/apt</td>\n",
       "      <td>1</td>\n",
       "      <td>267</td>\n",
       "      <td>22/09/20</td>\n",
       "      <td>2.39</td>\n",
       "      <td>5</td>\n",
       "      <td>0</td>\n",
       "      <td>Asheville</td>\n",
       "      <td>90</td>\n",
       "    </tr>\n",
       "    <tr>\n",
       "      <th>4</th>\n",
       "      <td>160594</td>\n",
       "      <td>Historic Grove Park</td>\n",
       "      <td>769252</td>\n",
       "      <td>Elizabeth</td>\n",
       "      <td>NaN</td>\n",
       "      <td>28801</td>\n",
       "      <td>35.61442</td>\n",
       "      <td>-82.54127</td>\n",
       "      <td>Private room</td>\n",
       "      <td>30</td>\n",
       "      <td>58</td>\n",
       "      <td>19/10/15</td>\n",
       "      <td>0.52</td>\n",
       "      <td>1</td>\n",
       "      <td>0</td>\n",
       "      <td>Asheville</td>\n",
       "      <td>125</td>\n",
       "    </tr>\n",
       "  </tbody>\n",
       "</table>\n",
       "</div>"
      ],
      "text/plain": [
       "       id                                               name  host_id  \\\n",
       "0   38585    Charming Victorian home - twin beds + breakfast   165529   \n",
       "1   80905                                   French Chic Loft   427027   \n",
       "2  108061  Walk to stores/parks/downtown. Fenced yard/Pet...   320564   \n",
       "3  155305                 Cottage! BonPaul + Sharky's Hostel   746673   \n",
       "4  160594                                Historic Grove Park   769252   \n",
       "\n",
       "   host_name neighbourhood_group neighbourhood  latitude  longitude  \\\n",
       "0    Evelyne                 NaN         28804  35.65146  -82.62792   \n",
       "1    Celeste                 NaN         28801  35.59779  -82.55540   \n",
       "2       Lisa                 NaN         28801  35.60670  -82.55563   \n",
       "3    BonPaul                 NaN         28806  35.57864  -82.59578   \n",
       "4  Elizabeth                 NaN         28801  35.61442  -82.54127   \n",
       "\n",
       "         room_type  minimum_nights  number_of_reviews last_review  \\\n",
       "0     Private room               1                138    16/02/20   \n",
       "1  Entire home/apt               1                114    07/09/20   \n",
       "2  Entire home/apt              30                 89    30/11/19   \n",
       "3  Entire home/apt               1                267    22/09/20   \n",
       "4     Private room              30                 58    19/10/15   \n",
       "\n",
       "   reviews_per_month  calculated_host_listings_count  availability_365  \\\n",
       "0               1.14                               1                 0   \n",
       "1               1.03                              11               288   \n",
       "2               0.81                               2               298   \n",
       "3               2.39                               5                 0   \n",
       "4               0.52                               1                 0   \n",
       "\n",
       "        city  price  \n",
       "0  Asheville     60  \n",
       "1  Asheville    470  \n",
       "2  Asheville     75  \n",
       "3  Asheville     90  \n",
       "4  Asheville    125  "
      ]
     },
     "execution_count": 581,
     "metadata": {},
     "output_type": "execute_result"
    }
   ],
   "source": [
    "#move price column to last \n",
    "column_to_reorder = df.pop('price')\n",
    "df.insert(len(df. columns), 'price', column_to_reorder)\n",
    "\n",
    "df.head()"
   ]
  },
  {
   "cell_type": "code",
   "execution_count": 582,
   "id": "7f7a32bb",
   "metadata": {
    "hidden": true
   },
   "outputs": [],
   "source": [
    "df['last_review'] = pd.to_datetime(df['last_review'])"
   ]
  },
  {
   "cell_type": "code",
   "execution_count": 583,
   "id": "5eb65b3d",
   "metadata": {
    "hidden": true
   },
   "outputs": [
    {
     "data": {
      "text/plain": [
       "pandas._libs.tslibs.timestamps.Timestamp"
      ]
     },
     "execution_count": 583,
     "metadata": {},
     "output_type": "execute_result"
    }
   ],
   "source": [
    "type(df['last_review'][1])"
   ]
  },
  {
   "cell_type": "code",
   "execution_count": 584,
   "id": "9571e997",
   "metadata": {
    "hidden": true
   },
   "outputs": [
    {
     "data": {
      "text/plain": [
       "Timestamp('2020-12-09 00:00:00')"
      ]
     },
     "execution_count": 584,
     "metadata": {},
     "output_type": "execute_result"
    }
   ],
   "source": [
    "df['last_review'].max()"
   ]
  },
  {
   "cell_type": "code",
   "execution_count": 585,
   "id": "eccd9416",
   "metadata": {
    "hidden": true
   },
   "outputs": [
    {
     "data": {
      "text/plain": [
       "Timestamp('2010-03-28 00:00:00')"
      ]
     },
     "execution_count": 585,
     "metadata": {},
     "output_type": "execute_result"
    }
   ],
   "source": [
    "df['last_review'].min()"
   ]
  },
  {
   "cell_type": "code",
   "execution_count": 586,
   "id": "09385a91",
   "metadata": {
    "hidden": true
   },
   "outputs": [],
   "source": [
    "#X=df.iloc[:,:-1].values\n",
    "#y=df.iloc[:,-1].values"
   ]
  },
  {
   "cell_type": "markdown",
   "id": "8fc303a7",
   "metadata": {
    "heading_collapsed": true
   },
   "source": [
    "## Taking care of Missing Data"
   ]
  },
  {
   "cell_type": "markdown",
   "id": "f9781125",
   "metadata": {
    "hidden": true
   },
   "source": [
    "5 Ways To Handle Missing Values In Machine Learning Datasets:\n",
    "\n",
    "https://analyticsindiamag.com/5-ways-handle-missing-values-machine-learning-datasets/\n",
    "\n",
    "https://towardsdatascience.com/6-different-ways-to-compensate-for-missing-values-data-imputation-with-examples-6022d9ca0779"
   ]
  },
  {
   "cell_type": "markdown",
   "id": "68afd49a",
   "metadata": {
    "hidden": true
   },
   "source": [
    "url: https://towardsdatascience.com/7-ways-to-handle-missing-values-in-machine-learning-1a6326adf79e"
   ]
  },
  {
   "cell_type": "raw",
   "id": "3e455d7b",
   "metadata": {
    "hidden": true
   },
   "source": [
    "---> not getting installed"
   ]
  },
  {
   "cell_type": "code",
   "execution_count": 587,
   "id": "2ac5d4f7",
   "metadata": {
    "hidden": true
   },
   "outputs": [],
   "source": [
    "#Deciding:\n",
    "#name                                  28 Not significant str       Remove\n",
    "#host_name                             33 Not significant str       Remove\n",
    "#neighbourhood_group               115845 Significant     str       34 groups\n",
    "#last_review                        48602 Significant     str       🔴\n",
    "#reviews_per_month                  48602 Significant     float     replace nan by mean"
   ]
  },
  {
   "cell_type": "markdown",
   "id": "1ba6e0dd",
   "metadata": {
    "hidden": true
   },
   "source": [
    "### Handle missing datetimes in 'last_review' 🔴"
   ]
  },
  {
   "cell_type": "raw",
   "id": "71db6bd4",
   "metadata": {
    "hidden": true
   },
   "source": [
    "can we remove the variable?"
   ]
  },
  {
   "cell_type": "markdown",
   "id": "c6967e28",
   "metadata": {
    "hidden": true
   },
   "source": [
    "### Imputation for 'neighbourhood_group' by adding new 'unknown' category"
   ]
  },
  {
   "cell_type": "code",
   "execution_count": 588,
   "id": "69332d01",
   "metadata": {
    "hidden": true
   },
   "outputs": [
    {
     "name": "stdout",
     "output_type": "stream",
     "text": [
      "4\n"
     ]
    }
   ],
   "source": [
    "index_no = df.columns.get_loc('neighbourhood_group')\n",
    "print(index_no)"
   ]
  },
  {
   "cell_type": "code",
   "execution_count": 589,
   "id": "7191b77c",
   "metadata": {
    "hidden": true
   },
   "outputs": [],
   "source": [
    "df1 = df\n",
    "df1['neighbourhood_group']=df1['neighbourhood_group'].replace(np.nan, 'unknown', regex = True)"
   ]
  },
  {
   "cell_type": "markdown",
   "id": "3329f8e6",
   "metadata": {
    "hidden": true
   },
   "source": [
    "### remove prices with 0 "
   ]
  },
  {
   "cell_type": "code",
   "execution_count": 590,
   "id": "a9f27098",
   "metadata": {
    "hidden": true
   },
   "outputs": [],
   "source": [
    "df = df[df['price']!=0]"
   ]
  },
  {
   "cell_type": "markdown",
   "id": "60e42280",
   "metadata": {
    "hidden": true
   },
   "source": [
    "### Remove rows with null values in 'name' & 'host_name'"
   ]
  },
  {
   "cell_type": "code",
   "execution_count": 591,
   "id": "c5348017",
   "metadata": {
    "hidden": true
   },
   "outputs": [],
   "source": [
    "df = df[pd.notnull(df['name'])]"
   ]
  },
  {
   "cell_type": "code",
   "execution_count": 592,
   "id": "fd787447",
   "metadata": {
    "hidden": true
   },
   "outputs": [],
   "source": [
    "df = df[pd.notnull(df['host_name'])]"
   ]
  },
  {
   "cell_type": "code",
   "execution_count": 593,
   "id": "e929d91a",
   "metadata": {
    "hidden": true
   },
   "outputs": [
    {
     "data": {
      "text/plain": [
       "id                                    0\n",
       "name                                  0\n",
       "host_id                               0\n",
       "host_name                             0\n",
       "neighbourhood_group                   0\n",
       "neighbourhood                         0\n",
       "latitude                              0\n",
       "longitude                             0\n",
       "room_type                             0\n",
       "minimum_nights                        0\n",
       "number_of_reviews                     0\n",
       "last_review                       48532\n",
       "reviews_per_month                 48532\n",
       "calculated_host_listings_count        0\n",
       "availability_365                      0\n",
       "city                                  0\n",
       "price                                 0\n",
       "dtype: int64"
      ]
     },
     "execution_count": 593,
     "metadata": {},
     "output_type": "execute_result"
    }
   ],
   "source": [
    "df.isna().sum()"
   ]
  },
  {
   "cell_type": "code",
   "execution_count": 594,
   "id": "3c493910",
   "metadata": {
    "hidden": true
   },
   "outputs": [
    {
     "data": {
      "text/plain": [
       "Index(['id', 'name', 'host_id', 'host_name', 'neighbourhood_group',\n",
       "       'neighbourhood', 'latitude', 'longitude', 'room_type', 'minimum_nights',\n",
       "       'number_of_reviews', 'last_review', 'reviews_per_month',\n",
       "       'calculated_host_listings_count', 'availability_365', 'city', 'price'],\n",
       "      dtype='object')"
      ]
     },
     "execution_count": 594,
     "metadata": {},
     "output_type": "execute_result"
    }
   ],
   "source": [
    "df.columns"
   ]
  },
  {
   "cell_type": "code",
   "execution_count": 595,
   "id": "947b5e1a",
   "metadata": {
    "hidden": true
   },
   "outputs": [
    {
     "data": {
      "text/plain": [
       "(225907, 17)"
      ]
     },
     "execution_count": 595,
     "metadata": {},
     "output_type": "execute_result"
    }
   ],
   "source": [
    "df.shape"
   ]
  },
  {
   "cell_type": "markdown",
   "id": "4c89f6ac",
   "metadata": {},
   "source": [
    "## Encoding Categorical Data"
   ]
  },
  {
   "cell_type": "markdown",
   "id": "99b2a7c3",
   "metadata": {
    "heading_collapsed": true
   },
   "source": [
    "### Encoding [city,neighbourhood_group,room_type] onehot"
   ]
  },
  {
   "cell_type": "code",
   "execution_count": 596,
   "id": "11e187d0",
   "metadata": {
    "hidden": true
   },
   "outputs": [],
   "source": [
    "df = pd.get_dummies(df, columns=[\"city\",\"room_type\",\"neighbourhood_group\"])"
   ]
  },
  {
   "cell_type": "code",
   "execution_count": 597,
   "id": "36a033e4",
   "metadata": {
    "hidden": true
   },
   "outputs": [
    {
     "data": {
      "text/html": [
       "<div>\n",
       "<style scoped>\n",
       "    .dataframe tbody tr th:only-of-type {\n",
       "        vertical-align: middle;\n",
       "    }\n",
       "\n",
       "    .dataframe tbody tr th {\n",
       "        vertical-align: top;\n",
       "    }\n",
       "\n",
       "    .dataframe thead th {\n",
       "        text-align: right;\n",
       "    }\n",
       "</style>\n",
       "<table border=\"1\" class=\"dataframe\">\n",
       "  <thead>\n",
       "    <tr style=\"text-align: right;\">\n",
       "      <th></th>\n",
       "      <th>id</th>\n",
       "      <th>name</th>\n",
       "      <th>host_id</th>\n",
       "      <th>host_name</th>\n",
       "      <th>neighbourhood</th>\n",
       "      <th>latitude</th>\n",
       "      <th>longitude</th>\n",
       "      <th>minimum_nights</th>\n",
       "      <th>number_of_reviews</th>\n",
       "      <th>last_review</th>\n",
       "      <th>...</th>\n",
       "      <th>neighbourhood_group_Queen Anne</th>\n",
       "      <th>neighbourhood_group_Queens</th>\n",
       "      <th>neighbourhood_group_Rainier Valley</th>\n",
       "      <th>neighbourhood_group_Seward Park</th>\n",
       "      <th>neighbourhood_group_Staten Island</th>\n",
       "      <th>neighbourhood_group_Unincorporated Areas</th>\n",
       "      <th>neighbourhood_group_University District</th>\n",
       "      <th>neighbourhood_group_Washington</th>\n",
       "      <th>neighbourhood_group_West Seattle</th>\n",
       "      <th>neighbourhood_group_unknown</th>\n",
       "    </tr>\n",
       "  </thead>\n",
       "  <tbody>\n",
       "    <tr>\n",
       "      <th>0</th>\n",
       "      <td>38585</td>\n",
       "      <td>Charming Victorian home - twin beds + breakfast</td>\n",
       "      <td>165529</td>\n",
       "      <td>Evelyne</td>\n",
       "      <td>28804</td>\n",
       "      <td>35.651460</td>\n",
       "      <td>-82.627920</td>\n",
       "      <td>1</td>\n",
       "      <td>138</td>\n",
       "      <td>2020-02-16</td>\n",
       "      <td>...</td>\n",
       "      <td>0</td>\n",
       "      <td>0</td>\n",
       "      <td>0</td>\n",
       "      <td>0</td>\n",
       "      <td>0</td>\n",
       "      <td>0</td>\n",
       "      <td>0</td>\n",
       "      <td>0</td>\n",
       "      <td>0</td>\n",
       "      <td>1</td>\n",
       "    </tr>\n",
       "    <tr>\n",
       "      <th>1</th>\n",
       "      <td>80905</td>\n",
       "      <td>French Chic Loft</td>\n",
       "      <td>427027</td>\n",
       "      <td>Celeste</td>\n",
       "      <td>28801</td>\n",
       "      <td>35.597790</td>\n",
       "      <td>-82.555400</td>\n",
       "      <td>1</td>\n",
       "      <td>114</td>\n",
       "      <td>2020-07-09</td>\n",
       "      <td>...</td>\n",
       "      <td>0</td>\n",
       "      <td>0</td>\n",
       "      <td>0</td>\n",
       "      <td>0</td>\n",
       "      <td>0</td>\n",
       "      <td>0</td>\n",
       "      <td>0</td>\n",
       "      <td>0</td>\n",
       "      <td>0</td>\n",
       "      <td>1</td>\n",
       "    </tr>\n",
       "    <tr>\n",
       "      <th>2</th>\n",
       "      <td>108061</td>\n",
       "      <td>Walk to stores/parks/downtown. Fenced yard/Pet...</td>\n",
       "      <td>320564</td>\n",
       "      <td>Lisa</td>\n",
       "      <td>28801</td>\n",
       "      <td>35.606700</td>\n",
       "      <td>-82.555630</td>\n",
       "      <td>30</td>\n",
       "      <td>89</td>\n",
       "      <td>2019-11-30</td>\n",
       "      <td>...</td>\n",
       "      <td>0</td>\n",
       "      <td>0</td>\n",
       "      <td>0</td>\n",
       "      <td>0</td>\n",
       "      <td>0</td>\n",
       "      <td>0</td>\n",
       "      <td>0</td>\n",
       "      <td>0</td>\n",
       "      <td>0</td>\n",
       "      <td>1</td>\n",
       "    </tr>\n",
       "    <tr>\n",
       "      <th>3</th>\n",
       "      <td>155305</td>\n",
       "      <td>Cottage! BonPaul + Sharky's Hostel</td>\n",
       "      <td>746673</td>\n",
       "      <td>BonPaul</td>\n",
       "      <td>28806</td>\n",
       "      <td>35.578640</td>\n",
       "      <td>-82.595780</td>\n",
       "      <td>1</td>\n",
       "      <td>267</td>\n",
       "      <td>2020-09-22</td>\n",
       "      <td>...</td>\n",
       "      <td>0</td>\n",
       "      <td>0</td>\n",
       "      <td>0</td>\n",
       "      <td>0</td>\n",
       "      <td>0</td>\n",
       "      <td>0</td>\n",
       "      <td>0</td>\n",
       "      <td>0</td>\n",
       "      <td>0</td>\n",
       "      <td>1</td>\n",
       "    </tr>\n",
       "    <tr>\n",
       "      <th>4</th>\n",
       "      <td>160594</td>\n",
       "      <td>Historic Grove Park</td>\n",
       "      <td>769252</td>\n",
       "      <td>Elizabeth</td>\n",
       "      <td>28801</td>\n",
       "      <td>35.614420</td>\n",
       "      <td>-82.541270</td>\n",
       "      <td>30</td>\n",
       "      <td>58</td>\n",
       "      <td>2015-10-19</td>\n",
       "      <td>...</td>\n",
       "      <td>0</td>\n",
       "      <td>0</td>\n",
       "      <td>0</td>\n",
       "      <td>0</td>\n",
       "      <td>0</td>\n",
       "      <td>0</td>\n",
       "      <td>0</td>\n",
       "      <td>0</td>\n",
       "      <td>0</td>\n",
       "      <td>1</td>\n",
       "    </tr>\n",
       "    <tr>\n",
       "      <th>...</th>\n",
       "      <td>...</td>\n",
       "      <td>...</td>\n",
       "      <td>...</td>\n",
       "      <td>...</td>\n",
       "      <td>...</td>\n",
       "      <td>...</td>\n",
       "      <td>...</td>\n",
       "      <td>...</td>\n",
       "      <td>...</td>\n",
       "      <td>...</td>\n",
       "      <td>...</td>\n",
       "      <td>...</td>\n",
       "      <td>...</td>\n",
       "      <td>...</td>\n",
       "      <td>...</td>\n",
       "      <td>...</td>\n",
       "      <td>...</td>\n",
       "      <td>...</td>\n",
       "      <td>...</td>\n",
       "      <td>...</td>\n",
       "      <td>...</td>\n",
       "    </tr>\n",
       "    <tr>\n",
       "      <th>226025</th>\n",
       "      <td>45506143</td>\n",
       "      <td>DC Hidden In Plain \"Site\"</td>\n",
       "      <td>25973146</td>\n",
       "      <td>Marci</td>\n",
       "      <td>Downtown, Chinatown, Penn Quarters, Mount Vern...</td>\n",
       "      <td>38.903880</td>\n",
       "      <td>-77.029730</td>\n",
       "      <td>1</td>\n",
       "      <td>0</td>\n",
       "      <td>NaT</td>\n",
       "      <td>...</td>\n",
       "      <td>0</td>\n",
       "      <td>0</td>\n",
       "      <td>0</td>\n",
       "      <td>0</td>\n",
       "      <td>0</td>\n",
       "      <td>0</td>\n",
       "      <td>0</td>\n",
       "      <td>0</td>\n",
       "      <td>0</td>\n",
       "      <td>1</td>\n",
       "    </tr>\n",
       "    <tr>\n",
       "      <th>226026</th>\n",
       "      <td>45511428</td>\n",
       "      <td>DC 3 BR w/ screen porch 3 blck to metro w/ par...</td>\n",
       "      <td>231133074</td>\n",
       "      <td>Thomas</td>\n",
       "      <td>Brookland, Brentwood, Langdon</td>\n",
       "      <td>38.920820</td>\n",
       "      <td>-76.990980</td>\n",
       "      <td>2</td>\n",
       "      <td>0</td>\n",
       "      <td>NaT</td>\n",
       "      <td>...</td>\n",
       "      <td>0</td>\n",
       "      <td>0</td>\n",
       "      <td>0</td>\n",
       "      <td>0</td>\n",
       "      <td>0</td>\n",
       "      <td>0</td>\n",
       "      <td>0</td>\n",
       "      <td>0</td>\n",
       "      <td>0</td>\n",
       "      <td>1</td>\n",
       "    </tr>\n",
       "    <tr>\n",
       "      <th>226027</th>\n",
       "      <td>45514685</td>\n",
       "      <td>Charming Penthouse Apt w/ Rooftop Terrace in L...</td>\n",
       "      <td>33758935</td>\n",
       "      <td>Bassem</td>\n",
       "      <td>Shaw, Logan Circle</td>\n",
       "      <td>38.911170</td>\n",
       "      <td>-77.033540</td>\n",
       "      <td>2</td>\n",
       "      <td>0</td>\n",
       "      <td>NaT</td>\n",
       "      <td>...</td>\n",
       "      <td>0</td>\n",
       "      <td>0</td>\n",
       "      <td>0</td>\n",
       "      <td>0</td>\n",
       "      <td>0</td>\n",
       "      <td>0</td>\n",
       "      <td>0</td>\n",
       "      <td>0</td>\n",
       "      <td>0</td>\n",
       "      <td>1</td>\n",
       "    </tr>\n",
       "    <tr>\n",
       "      <th>226028</th>\n",
       "      <td>45516412</td>\n",
       "      <td>Adams Morgan/Nat'l Zoo 1 BR Apt #32</td>\n",
       "      <td>23193071</td>\n",
       "      <td>Michael</td>\n",
       "      <td>Kalorama Heights, Adams Morgan, Lanier Heights</td>\n",
       "      <td>38.926630</td>\n",
       "      <td>-77.044360</td>\n",
       "      <td>21</td>\n",
       "      <td>0</td>\n",
       "      <td>NaT</td>\n",
       "      <td>...</td>\n",
       "      <td>0</td>\n",
       "      <td>0</td>\n",
       "      <td>0</td>\n",
       "      <td>0</td>\n",
       "      <td>0</td>\n",
       "      <td>0</td>\n",
       "      <td>0</td>\n",
       "      <td>0</td>\n",
       "      <td>0</td>\n",
       "      <td>1</td>\n",
       "    </tr>\n",
       "    <tr>\n",
       "      <th>226029</th>\n",
       "      <td>45517735</td>\n",
       "      <td>Beautiful large one-bedroom w/ washer and dryer</td>\n",
       "      <td>17789858</td>\n",
       "      <td>Adam</td>\n",
       "      <td>Edgewood, Bloomingdale, Truxton Circle, Eckington</td>\n",
       "      <td>38.911569</td>\n",
       "      <td>-77.009431</td>\n",
       "      <td>7</td>\n",
       "      <td>0</td>\n",
       "      <td>NaT</td>\n",
       "      <td>...</td>\n",
       "      <td>0</td>\n",
       "      <td>0</td>\n",
       "      <td>0</td>\n",
       "      <td>0</td>\n",
       "      <td>0</td>\n",
       "      <td>0</td>\n",
       "      <td>0</td>\n",
       "      <td>0</td>\n",
       "      <td>0</td>\n",
       "      <td>1</td>\n",
       "    </tr>\n",
       "  </tbody>\n",
       "</table>\n",
       "<p>225907 rows × 81 columns</p>\n",
       "</div>"
      ],
      "text/plain": [
       "              id                                               name  \\\n",
       "0          38585    Charming Victorian home - twin beds + breakfast   \n",
       "1          80905                                   French Chic Loft   \n",
       "2         108061  Walk to stores/parks/downtown. Fenced yard/Pet...   \n",
       "3         155305                 Cottage! BonPaul + Sharky's Hostel   \n",
       "4         160594                                Historic Grove Park   \n",
       "...          ...                                                ...   \n",
       "226025  45506143                          DC Hidden In Plain \"Site\"   \n",
       "226026  45511428  DC 3 BR w/ screen porch 3 blck to metro w/ par...   \n",
       "226027  45514685  Charming Penthouse Apt w/ Rooftop Terrace in L...   \n",
       "226028  45516412                Adams Morgan/Nat'l Zoo 1 BR Apt #32   \n",
       "226029  45517735    Beautiful large one-bedroom w/ washer and dryer   \n",
       "\n",
       "          host_id  host_name  \\\n",
       "0          165529    Evelyne   \n",
       "1          427027    Celeste   \n",
       "2          320564       Lisa   \n",
       "3          746673    BonPaul   \n",
       "4          769252  Elizabeth   \n",
       "...           ...        ...   \n",
       "226025   25973146      Marci   \n",
       "226026  231133074     Thomas   \n",
       "226027   33758935     Bassem   \n",
       "226028   23193071    Michael   \n",
       "226029   17789858       Adam   \n",
       "\n",
       "                                            neighbourhood   latitude  \\\n",
       "0                                                   28804  35.651460   \n",
       "1                                                   28801  35.597790   \n",
       "2                                                   28801  35.606700   \n",
       "3                                                   28806  35.578640   \n",
       "4                                                   28801  35.614420   \n",
       "...                                                   ...        ...   \n",
       "226025  Downtown, Chinatown, Penn Quarters, Mount Vern...  38.903880   \n",
       "226026                      Brookland, Brentwood, Langdon  38.920820   \n",
       "226027                                 Shaw, Logan Circle  38.911170   \n",
       "226028     Kalorama Heights, Adams Morgan, Lanier Heights  38.926630   \n",
       "226029  Edgewood, Bloomingdale, Truxton Circle, Eckington  38.911569   \n",
       "\n",
       "        longitude  minimum_nights  number_of_reviews last_review  ...  \\\n",
       "0      -82.627920               1                138  2020-02-16  ...   \n",
       "1      -82.555400               1                114  2020-07-09  ...   \n",
       "2      -82.555630              30                 89  2019-11-30  ...   \n",
       "3      -82.595780               1                267  2020-09-22  ...   \n",
       "4      -82.541270              30                 58  2015-10-19  ...   \n",
       "...           ...             ...                ...         ...  ...   \n",
       "226025 -77.029730               1                  0         NaT  ...   \n",
       "226026 -76.990980               2                  0         NaT  ...   \n",
       "226027 -77.033540               2                  0         NaT  ...   \n",
       "226028 -77.044360              21                  0         NaT  ...   \n",
       "226029 -77.009431               7                  0         NaT  ...   \n",
       "\n",
       "        neighbourhood_group_Queen Anne  neighbourhood_group_Queens  \\\n",
       "0                                    0                           0   \n",
       "1                                    0                           0   \n",
       "2                                    0                           0   \n",
       "3                                    0                           0   \n",
       "4                                    0                           0   \n",
       "...                                ...                         ...   \n",
       "226025                               0                           0   \n",
       "226026                               0                           0   \n",
       "226027                               0                           0   \n",
       "226028                               0                           0   \n",
       "226029                               0                           0   \n",
       "\n",
       "        neighbourhood_group_Rainier Valley  neighbourhood_group_Seward Park  \\\n",
       "0                                        0                                0   \n",
       "1                                        0                                0   \n",
       "2                                        0                                0   \n",
       "3                                        0                                0   \n",
       "4                                        0                                0   \n",
       "...                                    ...                              ...   \n",
       "226025                                   0                                0   \n",
       "226026                                   0                                0   \n",
       "226027                                   0                                0   \n",
       "226028                                   0                                0   \n",
       "226029                                   0                                0   \n",
       "\n",
       "        neighbourhood_group_Staten Island  \\\n",
       "0                                       0   \n",
       "1                                       0   \n",
       "2                                       0   \n",
       "3                                       0   \n",
       "4                                       0   \n",
       "...                                   ...   \n",
       "226025                                  0   \n",
       "226026                                  0   \n",
       "226027                                  0   \n",
       "226028                                  0   \n",
       "226029                                  0   \n",
       "\n",
       "        neighbourhood_group_Unincorporated Areas  \\\n",
       "0                                              0   \n",
       "1                                              0   \n",
       "2                                              0   \n",
       "3                                              0   \n",
       "4                                              0   \n",
       "...                                          ...   \n",
       "226025                                         0   \n",
       "226026                                         0   \n",
       "226027                                         0   \n",
       "226028                                         0   \n",
       "226029                                         0   \n",
       "\n",
       "        neighbourhood_group_University District  \\\n",
       "0                                             0   \n",
       "1                                             0   \n",
       "2                                             0   \n",
       "3                                             0   \n",
       "4                                             0   \n",
       "...                                         ...   \n",
       "226025                                        0   \n",
       "226026                                        0   \n",
       "226027                                        0   \n",
       "226028                                        0   \n",
       "226029                                        0   \n",
       "\n",
       "        neighbourhood_group_Washington  neighbourhood_group_West Seattle  \\\n",
       "0                                    0                                 0   \n",
       "1                                    0                                 0   \n",
       "2                                    0                                 0   \n",
       "3                                    0                                 0   \n",
       "4                                    0                                 0   \n",
       "...                                ...                               ...   \n",
       "226025                               0                                 0   \n",
       "226026                               0                                 0   \n",
       "226027                               0                                 0   \n",
       "226028                               0                                 0   \n",
       "226029                               0                                 0   \n",
       "\n",
       "        neighbourhood_group_unknown  \n",
       "0                                 1  \n",
       "1                                 1  \n",
       "2                                 1  \n",
       "3                                 1  \n",
       "4                                 1  \n",
       "...                             ...  \n",
       "226025                            1  \n",
       "226026                            1  \n",
       "226027                            1  \n",
       "226028                            1  \n",
       "226029                            1  \n",
       "\n",
       "[225907 rows x 81 columns]"
      ]
     },
     "execution_count": 597,
     "metadata": {},
     "output_type": "execute_result"
    }
   ],
   "source": [
    "df"
   ]
  },
  {
   "cell_type": "markdown",
   "id": "ce2d7138",
   "metadata": {
    "hidden": true
   },
   "source": [
    "https://pbpython.com/categorical-encoding.html"
   ]
  },
  {
   "cell_type": "code",
   "execution_count": 598,
   "id": "db0e9e2e",
   "metadata": {
    "hidden": true
   },
   "outputs": [],
   "source": [
    "#df=pd.get_dummies(df, columns=[\"neighbourhood_group\"]).head()"
   ]
  },
  {
   "cell_type": "code",
   "execution_count": 599,
   "id": "d527304a",
   "metadata": {
    "hidden": true
   },
   "outputs": [
    {
     "data": {
      "text/plain": [
       "Index(['id', 'name', 'host_id', 'host_name', 'neighbourhood', 'latitude',\n",
       "       'longitude', 'minimum_nights', 'number_of_reviews', 'last_review',\n",
       "       'reviews_per_month', 'calculated_host_listings_count',\n",
       "       'availability_365', 'price', 'city_Asheville', 'city_Austin',\n",
       "       'city_Boston', 'city_Broward County', 'city_Cambridge', 'city_Chicago',\n",
       "       'city_Clark County', 'city_Columbus', 'city_Denver', 'city_Hawaii',\n",
       "       'city_Jersey City', 'city_Los Angeles', 'city_Nashville',\n",
       "       'city_New Orleans', 'city_New York City', 'city_Oakland',\n",
       "       'city_Pacific Grove', 'city_Portland', 'city_Rhode Island',\n",
       "       'city_Salem', 'city_San Clara Country', 'city_San Diego',\n",
       "       'city_San Francisco', 'city_San Mateo County', 'city_Santa Cruz County',\n",
       "       'city_Seattle', 'city_Twin Cities MSA', 'city_Washington D.C.',\n",
       "       'room_type_Entire home/apt', 'room_type_Hotel room',\n",
       "       'room_type_Private room', 'room_type_Shared room',\n",
       "       'neighbourhood_group_Ballard', 'neighbourhood_group_Beacon Hill',\n",
       "       'neighbourhood_group_Bristol', 'neighbourhood_group_Bronx',\n",
       "       'neighbourhood_group_Brooklyn', 'neighbourhood_group_Capitol Hill',\n",
       "       'neighbourhood_group_Cascade', 'neighbourhood_group_Central Area',\n",
       "       'neighbourhood_group_City of Los Angeles',\n",
       "       'neighbourhood_group_Delridge', 'neighbourhood_group_Downtown',\n",
       "       'neighbourhood_group_Hawaii', 'neighbourhood_group_Honolulu',\n",
       "       'neighbourhood_group_Interbay', 'neighbourhood_group_Kauai',\n",
       "       'neighbourhood_group_Kent', 'neighbourhood_group_Lake City',\n",
       "       'neighbourhood_group_Magnolia', 'neighbourhood_group_Manhattan',\n",
       "       'neighbourhood_group_Maui', 'neighbourhood_group_Newport',\n",
       "       'neighbourhood_group_Northgate', 'neighbourhood_group_Other Cities',\n",
       "       'neighbourhood_group_Other neighborhoods',\n",
       "       'neighbourhood_group_Providence', 'neighbourhood_group_Queen Anne',\n",
       "       'neighbourhood_group_Queens', 'neighbourhood_group_Rainier Valley',\n",
       "       'neighbourhood_group_Seward Park', 'neighbourhood_group_Staten Island',\n",
       "       'neighbourhood_group_Unincorporated Areas',\n",
       "       'neighbourhood_group_University District',\n",
       "       'neighbourhood_group_Washington', 'neighbourhood_group_West Seattle',\n",
       "       'neighbourhood_group_unknown'],\n",
       "      dtype='object')"
      ]
     },
     "execution_count": 599,
     "metadata": {},
     "output_type": "execute_result"
    }
   ],
   "source": [
    "df.columns"
   ]
  },
  {
   "cell_type": "code",
   "execution_count": 600,
   "id": "1d6a1289",
   "metadata": {
    "hidden": true
   },
   "outputs": [
    {
     "data": {
      "text/plain": [
       "(225907, 81)"
      ]
     },
     "execution_count": 600,
     "metadata": {},
     "output_type": "execute_result"
    }
   ],
   "source": [
    "df.shape"
   ]
  },
  {
   "cell_type": "code",
   "execution_count": 601,
   "id": "7134d6ed",
   "metadata": {
    "hidden": true
   },
   "outputs": [
    {
     "data": {
      "text/html": [
       "<div>\n",
       "<style scoped>\n",
       "    .dataframe tbody tr th:only-of-type {\n",
       "        vertical-align: middle;\n",
       "    }\n",
       "\n",
       "    .dataframe tbody tr th {\n",
       "        vertical-align: top;\n",
       "    }\n",
       "\n",
       "    .dataframe thead th {\n",
       "        text-align: right;\n",
       "    }\n",
       "</style>\n",
       "<table border=\"1\" class=\"dataframe\">\n",
       "  <thead>\n",
       "    <tr style=\"text-align: right;\">\n",
       "      <th></th>\n",
       "      <th>id</th>\n",
       "      <th>name</th>\n",
       "      <th>host_id</th>\n",
       "      <th>host_name</th>\n",
       "      <th>neighbourhood</th>\n",
       "      <th>latitude</th>\n",
       "      <th>longitude</th>\n",
       "      <th>minimum_nights</th>\n",
       "      <th>number_of_reviews</th>\n",
       "      <th>last_review</th>\n",
       "      <th>...</th>\n",
       "      <th>neighbourhood_group_Queens</th>\n",
       "      <th>neighbourhood_group_Rainier Valley</th>\n",
       "      <th>neighbourhood_group_Seward Park</th>\n",
       "      <th>neighbourhood_group_Staten Island</th>\n",
       "      <th>neighbourhood_group_Unincorporated Areas</th>\n",
       "      <th>neighbourhood_group_University District</th>\n",
       "      <th>neighbourhood_group_Washington</th>\n",
       "      <th>neighbourhood_group_West Seattle</th>\n",
       "      <th>neighbourhood_group_unknown</th>\n",
       "      <th>price</th>\n",
       "    </tr>\n",
       "  </thead>\n",
       "  <tbody>\n",
       "    <tr>\n",
       "      <th>0</th>\n",
       "      <td>38585</td>\n",
       "      <td>Charming Victorian home - twin beds + breakfast</td>\n",
       "      <td>165529</td>\n",
       "      <td>Evelyne</td>\n",
       "      <td>28804</td>\n",
       "      <td>35.65146</td>\n",
       "      <td>-82.62792</td>\n",
       "      <td>1</td>\n",
       "      <td>138</td>\n",
       "      <td>2020-02-16</td>\n",
       "      <td>...</td>\n",
       "      <td>0</td>\n",
       "      <td>0</td>\n",
       "      <td>0</td>\n",
       "      <td>0</td>\n",
       "      <td>0</td>\n",
       "      <td>0</td>\n",
       "      <td>0</td>\n",
       "      <td>0</td>\n",
       "      <td>1</td>\n",
       "      <td>60</td>\n",
       "    </tr>\n",
       "    <tr>\n",
       "      <th>1</th>\n",
       "      <td>80905</td>\n",
       "      <td>French Chic Loft</td>\n",
       "      <td>427027</td>\n",
       "      <td>Celeste</td>\n",
       "      <td>28801</td>\n",
       "      <td>35.59779</td>\n",
       "      <td>-82.55540</td>\n",
       "      <td>1</td>\n",
       "      <td>114</td>\n",
       "      <td>2020-07-09</td>\n",
       "      <td>...</td>\n",
       "      <td>0</td>\n",
       "      <td>0</td>\n",
       "      <td>0</td>\n",
       "      <td>0</td>\n",
       "      <td>0</td>\n",
       "      <td>0</td>\n",
       "      <td>0</td>\n",
       "      <td>0</td>\n",
       "      <td>1</td>\n",
       "      <td>470</td>\n",
       "    </tr>\n",
       "    <tr>\n",
       "      <th>2</th>\n",
       "      <td>108061</td>\n",
       "      <td>Walk to stores/parks/downtown. Fenced yard/Pet...</td>\n",
       "      <td>320564</td>\n",
       "      <td>Lisa</td>\n",
       "      <td>28801</td>\n",
       "      <td>35.60670</td>\n",
       "      <td>-82.55563</td>\n",
       "      <td>30</td>\n",
       "      <td>89</td>\n",
       "      <td>2019-11-30</td>\n",
       "      <td>...</td>\n",
       "      <td>0</td>\n",
       "      <td>0</td>\n",
       "      <td>0</td>\n",
       "      <td>0</td>\n",
       "      <td>0</td>\n",
       "      <td>0</td>\n",
       "      <td>0</td>\n",
       "      <td>0</td>\n",
       "      <td>1</td>\n",
       "      <td>75</td>\n",
       "    </tr>\n",
       "    <tr>\n",
       "      <th>3</th>\n",
       "      <td>155305</td>\n",
       "      <td>Cottage! BonPaul + Sharky's Hostel</td>\n",
       "      <td>746673</td>\n",
       "      <td>BonPaul</td>\n",
       "      <td>28806</td>\n",
       "      <td>35.57864</td>\n",
       "      <td>-82.59578</td>\n",
       "      <td>1</td>\n",
       "      <td>267</td>\n",
       "      <td>2020-09-22</td>\n",
       "      <td>...</td>\n",
       "      <td>0</td>\n",
       "      <td>0</td>\n",
       "      <td>0</td>\n",
       "      <td>0</td>\n",
       "      <td>0</td>\n",
       "      <td>0</td>\n",
       "      <td>0</td>\n",
       "      <td>0</td>\n",
       "      <td>1</td>\n",
       "      <td>90</td>\n",
       "    </tr>\n",
       "    <tr>\n",
       "      <th>4</th>\n",
       "      <td>160594</td>\n",
       "      <td>Historic Grove Park</td>\n",
       "      <td>769252</td>\n",
       "      <td>Elizabeth</td>\n",
       "      <td>28801</td>\n",
       "      <td>35.61442</td>\n",
       "      <td>-82.54127</td>\n",
       "      <td>30</td>\n",
       "      <td>58</td>\n",
       "      <td>2015-10-19</td>\n",
       "      <td>...</td>\n",
       "      <td>0</td>\n",
       "      <td>0</td>\n",
       "      <td>0</td>\n",
       "      <td>0</td>\n",
       "      <td>0</td>\n",
       "      <td>0</td>\n",
       "      <td>0</td>\n",
       "      <td>0</td>\n",
       "      <td>1</td>\n",
       "      <td>125</td>\n",
       "    </tr>\n",
       "  </tbody>\n",
       "</table>\n",
       "<p>5 rows × 81 columns</p>\n",
       "</div>"
      ],
      "text/plain": [
       "       id                                               name  host_id  \\\n",
       "0   38585    Charming Victorian home - twin beds + breakfast   165529   \n",
       "1   80905                                   French Chic Loft   427027   \n",
       "2  108061  Walk to stores/parks/downtown. Fenced yard/Pet...   320564   \n",
       "3  155305                 Cottage! BonPaul + Sharky's Hostel   746673   \n",
       "4  160594                                Historic Grove Park   769252   \n",
       "\n",
       "   host_name neighbourhood  latitude  longitude  minimum_nights  \\\n",
       "0    Evelyne         28804  35.65146  -82.62792               1   \n",
       "1    Celeste         28801  35.59779  -82.55540               1   \n",
       "2       Lisa         28801  35.60670  -82.55563              30   \n",
       "3    BonPaul         28806  35.57864  -82.59578               1   \n",
       "4  Elizabeth         28801  35.61442  -82.54127              30   \n",
       "\n",
       "   number_of_reviews last_review  ...  neighbourhood_group_Queens  \\\n",
       "0                138  2020-02-16  ...                           0   \n",
       "1                114  2020-07-09  ...                           0   \n",
       "2                 89  2019-11-30  ...                           0   \n",
       "3                267  2020-09-22  ...                           0   \n",
       "4                 58  2015-10-19  ...                           0   \n",
       "\n",
       "   neighbourhood_group_Rainier Valley  neighbourhood_group_Seward Park  \\\n",
       "0                                   0                                0   \n",
       "1                                   0                                0   \n",
       "2                                   0                                0   \n",
       "3                                   0                                0   \n",
       "4                                   0                                0   \n",
       "\n",
       "   neighbourhood_group_Staten Island  \\\n",
       "0                                  0   \n",
       "1                                  0   \n",
       "2                                  0   \n",
       "3                                  0   \n",
       "4                                  0   \n",
       "\n",
       "   neighbourhood_group_Unincorporated Areas  \\\n",
       "0                                         0   \n",
       "1                                         0   \n",
       "2                                         0   \n",
       "3                                         0   \n",
       "4                                         0   \n",
       "\n",
       "   neighbourhood_group_University District  neighbourhood_group_Washington  \\\n",
       "0                                        0                               0   \n",
       "1                                        0                               0   \n",
       "2                                        0                               0   \n",
       "3                                        0                               0   \n",
       "4                                        0                               0   \n",
       "\n",
       "   neighbourhood_group_West Seattle  neighbourhood_group_unknown  price  \n",
       "0                                 0                            1     60  \n",
       "1                                 0                            1    470  \n",
       "2                                 0                            1     75  \n",
       "3                                 0                            1     90  \n",
       "4                                 0                            1    125  \n",
       "\n",
       "[5 rows x 81 columns]"
      ]
     },
     "execution_count": 601,
     "metadata": {},
     "output_type": "execute_result"
    }
   ],
   "source": [
    "#get prices to last index\n",
    "#move price column to last \n",
    "column_to_reorder = df.pop('price')\n",
    "df.insert(len(df. columns), 'price', column_to_reorder)\n",
    "\n",
    "df.head()"
   ]
  },
  {
   "cell_type": "code",
   "execution_count": 602,
   "id": "fab55524",
   "metadata": {
    "hidden": true
   },
   "outputs": [],
   "source": [
    "X=df.iloc[:,:-1].values\n",
    "y=df.iloc[:,-1].values"
   ]
  },
  {
   "cell_type": "markdown",
   "id": "eb566fc2",
   "metadata": {},
   "source": [
    "### Imputation using Mean for 'reviews_per_month'"
   ]
  },
  {
   "cell_type": "markdown",
   "id": "21996542",
   "metadata": {},
   "source": [
    "related to 'number_of_reviews' ?"
   ]
  },
  {
   "cell_type": "code",
   "execution_count": 603,
   "id": "4d37231f",
   "metadata": {},
   "outputs": [
    {
     "name": "stdout",
     "output_type": "stream",
     "text": [
      "10\n"
     ]
    }
   ],
   "source": [
    "index_no = df.columns.get_loc('reviews_per_month')\n",
    "print(index_no)"
   ]
  },
  {
   "cell_type": "code",
   "execution_count": 604,
   "id": "fe0b0c92",
   "metadata": {
    "scrolled": true
   },
   "outputs": [
    {
     "data": {
      "text/plain": [
       "(225907,)"
      ]
     },
     "execution_count": 604,
     "metadata": {},
     "output_type": "execute_result"
    }
   ],
   "source": [
    "X[:,10].shape"
   ]
  },
  {
   "cell_type": "code",
   "execution_count": 605,
   "id": "e8775b4f",
   "metadata": {},
   "outputs": [],
   "source": [
    "xrpm = X[:,10].reshape(-1, 1)"
   ]
  },
  {
   "cell_type": "code",
   "execution_count": 606,
   "id": "e6213a7b",
   "metadata": {},
   "outputs": [],
   "source": [
    "from sklearn.impute import SimpleImputer\n",
    "imputer=SimpleImputer(missing_values=np.nan, strategy='mean')\n",
    "imputer.fit(xrpm)\n",
    "xrpm=imputer.transform(xrpm)"
   ]
  },
  {
   "cell_type": "code",
   "execution_count": 607,
   "id": "7bfa1866",
   "metadata": {},
   "outputs": [
    {
     "data": {
      "text/plain": [
       "0"
      ]
     },
     "execution_count": 607,
     "metadata": {},
     "output_type": "execute_result"
    }
   ],
   "source": [
    "np.count_nonzero(np.isnan(xrpm))"
   ]
  },
  {
   "cell_type": "code",
   "execution_count": 608,
   "id": "2ec83c93",
   "metadata": {},
   "outputs": [],
   "source": [
    "X[:,10]=xrpm.reshape(1,-1)"
   ]
  },
  {
   "cell_type": "code",
   "execution_count": 609,
   "id": "5c7493ee",
   "metadata": {
    "scrolled": false
   },
   "outputs": [
    {
     "data": {
      "text/plain": [
       "array([1.14, 1.03, 0.81, ..., 1.4315295842142357, 1.4315295842142357,\n",
       "       1.4315295842142357], dtype=object)"
      ]
     },
     "execution_count": 609,
     "metadata": {},
     "output_type": "execute_result"
    }
   ],
   "source": [
    "X[:,10]"
   ]
  },
  {
   "cell_type": "code",
   "execution_count": 611,
   "id": "a21c414a",
   "metadata": {},
   "outputs": [],
   "source": [
    "df.to_csv('Data_Preprocessing.csv',index=False)"
   ]
  },
  {
   "cell_type": "markdown",
   "id": "183a86da",
   "metadata": {
    "heading_collapsed": true
   },
   "source": [
    "## Feature Scaling\n",
    "will be required according to model used"
   ]
  },
  {
   "cell_type": "code",
   "execution_count": 503,
   "id": "f1a04cc1",
   "metadata": {
    "hidden": true
   },
   "outputs": [
    {
     "data": {
      "text/html": [
       "<div>\n",
       "<style scoped>\n",
       "    .dataframe tbody tr th:only-of-type {\n",
       "        vertical-align: middle;\n",
       "    }\n",
       "\n",
       "    .dataframe tbody tr th {\n",
       "        vertical-align: top;\n",
       "    }\n",
       "\n",
       "    .dataframe thead th {\n",
       "        text-align: right;\n",
       "    }\n",
       "</style>\n",
       "<table border=\"1\" class=\"dataframe\">\n",
       "  <thead>\n",
       "    <tr style=\"text-align: right;\">\n",
       "      <th></th>\n",
       "      <th>id</th>\n",
       "      <th>host_id</th>\n",
       "      <th>latitude</th>\n",
       "      <th>longitude</th>\n",
       "      <th>minimum_nights</th>\n",
       "      <th>number_of_reviews</th>\n",
       "      <th>reviews_per_month</th>\n",
       "      <th>calculated_host_listings_count</th>\n",
       "      <th>availability_365</th>\n",
       "      <th>city_Asheville</th>\n",
       "      <th>...</th>\n",
       "      <th>neighbourhood_group_Queens</th>\n",
       "      <th>neighbourhood_group_Rainier Valley</th>\n",
       "      <th>neighbourhood_group_Seward Park</th>\n",
       "      <th>neighbourhood_group_Staten Island</th>\n",
       "      <th>neighbourhood_group_Unincorporated Areas</th>\n",
       "      <th>neighbourhood_group_University District</th>\n",
       "      <th>neighbourhood_group_Washington</th>\n",
       "      <th>neighbourhood_group_West Seattle</th>\n",
       "      <th>neighbourhood_group_unknown</th>\n",
       "      <th>price</th>\n",
       "    </tr>\n",
       "  </thead>\n",
       "  <tbody>\n",
       "    <tr>\n",
       "      <th>count</th>\n",
       "      <td>2.259070e+05</td>\n",
       "      <td>2.259070e+05</td>\n",
       "      <td>225907.000000</td>\n",
       "      <td>225907.000000</td>\n",
       "      <td>2.259070e+05</td>\n",
       "      <td>225907.000000</td>\n",
       "      <td>177375.000000</td>\n",
       "      <td>225907.000000</td>\n",
       "      <td>225907.000000</td>\n",
       "      <td>225907.000000</td>\n",
       "      <td>...</td>\n",
       "      <td>225907.000000</td>\n",
       "      <td>225907.000000</td>\n",
       "      <td>225907.000000</td>\n",
       "      <td>225907.000000</td>\n",
       "      <td>225907.000000</td>\n",
       "      <td>225907.000000</td>\n",
       "      <td>225907.000000</td>\n",
       "      <td>225907.000000</td>\n",
       "      <td>225907.000000</td>\n",
       "      <td>225907.000000</td>\n",
       "    </tr>\n",
       "    <tr>\n",
       "      <th>mean</th>\n",
       "      <td>2.547127e+07</td>\n",
       "      <td>9.349450e+07</td>\n",
       "      <td>35.661463</td>\n",
       "      <td>-103.226487</td>\n",
       "      <td>4.527880e+02</td>\n",
       "      <td>34.517000</td>\n",
       "      <td>1.431530</td>\n",
       "      <td>16.705613</td>\n",
       "      <td>159.367554</td>\n",
       "      <td>0.009181</td>\n",
       "      <td>...</td>\n",
       "      <td>0.025426</td>\n",
       "      <td>0.001580</td>\n",
       "      <td>0.000305</td>\n",
       "      <td>0.001443</td>\n",
       "      <td>0.011190</td>\n",
       "      <td>0.001054</td>\n",
       "      <td>0.005316</td>\n",
       "      <td>0.001673</td>\n",
       "      <td>0.512605</td>\n",
       "      <td>219.761521</td>\n",
       "    </tr>\n",
       "    <tr>\n",
       "      <th>std</th>\n",
       "      <td>1.317731e+07</td>\n",
       "      <td>9.825126e+07</td>\n",
       "      <td>6.850487</td>\n",
       "      <td>26.223171</td>\n",
       "      <td>2.103949e+05</td>\n",
       "      <td>63.611527</td>\n",
       "      <td>1.683214</td>\n",
       "      <td>51.081737</td>\n",
       "      <td>140.172911</td>\n",
       "      <td>0.095376</td>\n",
       "      <td>...</td>\n",
       "      <td>0.157417</td>\n",
       "      <td>0.039722</td>\n",
       "      <td>0.017474</td>\n",
       "      <td>0.037960</td>\n",
       "      <td>0.105192</td>\n",
       "      <td>0.032441</td>\n",
       "      <td>0.072719</td>\n",
       "      <td>0.040871</td>\n",
       "      <td>0.499842</td>\n",
       "      <td>570.431521</td>\n",
       "    </tr>\n",
       "    <tr>\n",
       "      <th>min</th>\n",
       "      <td>1.090000e+02</td>\n",
       "      <td>2.300000e+01</td>\n",
       "      <td>18.920990</td>\n",
       "      <td>-159.714900</td>\n",
       "      <td>1.000000e+00</td>\n",
       "      <td>0.000000</td>\n",
       "      <td>0.010000</td>\n",
       "      <td>1.000000</td>\n",
       "      <td>0.000000</td>\n",
       "      <td>0.000000</td>\n",
       "      <td>...</td>\n",
       "      <td>0.000000</td>\n",
       "      <td>0.000000</td>\n",
       "      <td>0.000000</td>\n",
       "      <td>0.000000</td>\n",
       "      <td>0.000000</td>\n",
       "      <td>0.000000</td>\n",
       "      <td>0.000000</td>\n",
       "      <td>0.000000</td>\n",
       "      <td>0.000000</td>\n",
       "      <td>1.000000</td>\n",
       "    </tr>\n",
       "    <tr>\n",
       "      <th>25%</th>\n",
       "      <td>1.515937e+07</td>\n",
       "      <td>1.399275e+07</td>\n",
       "      <td>32.761740</td>\n",
       "      <td>-118.598485</td>\n",
       "      <td>1.000000e+00</td>\n",
       "      <td>1.000000</td>\n",
       "      <td>0.230000</td>\n",
       "      <td>1.000000</td>\n",
       "      <td>0.000000</td>\n",
       "      <td>0.000000</td>\n",
       "      <td>...</td>\n",
       "      <td>0.000000</td>\n",
       "      <td>0.000000</td>\n",
       "      <td>0.000000</td>\n",
       "      <td>0.000000</td>\n",
       "      <td>0.000000</td>\n",
       "      <td>0.000000</td>\n",
       "      <td>0.000000</td>\n",
       "      <td>0.000000</td>\n",
       "      <td>0.000000</td>\n",
       "      <td>75.000000</td>\n",
       "    </tr>\n",
       "    <tr>\n",
       "      <th>50%</th>\n",
       "      <td>2.591136e+07</td>\n",
       "      <td>5.136456e+07</td>\n",
       "      <td>37.258690</td>\n",
       "      <td>-97.818390</td>\n",
       "      <td>2.000000e+00</td>\n",
       "      <td>8.000000</td>\n",
       "      <td>0.810000</td>\n",
       "      <td>2.000000</td>\n",
       "      <td>140.000000</td>\n",
       "      <td>0.000000</td>\n",
       "      <td>...</td>\n",
       "      <td>0.000000</td>\n",
       "      <td>0.000000</td>\n",
       "      <td>0.000000</td>\n",
       "      <td>0.000000</td>\n",
       "      <td>0.000000</td>\n",
       "      <td>0.000000</td>\n",
       "      <td>0.000000</td>\n",
       "      <td>0.000000</td>\n",
       "      <td>1.000000</td>\n",
       "      <td>122.000000</td>\n",
       "    </tr>\n",
       "    <tr>\n",
       "      <th>75%</th>\n",
       "      <td>3.772203e+07</td>\n",
       "      <td>1.496354e+08</td>\n",
       "      <td>40.724010</td>\n",
       "      <td>-76.927200</td>\n",
       "      <td>7.000000e+00</td>\n",
       "      <td>39.000000</td>\n",
       "      <td>2.060000</td>\n",
       "      <td>6.000000</td>\n",
       "      <td>311.000000</td>\n",
       "      <td>0.000000</td>\n",
       "      <td>...</td>\n",
       "      <td>0.000000</td>\n",
       "      <td>0.000000</td>\n",
       "      <td>0.000000</td>\n",
       "      <td>0.000000</td>\n",
       "      <td>0.000000</td>\n",
       "      <td>0.000000</td>\n",
       "      <td>0.000000</td>\n",
       "      <td>0.000000</td>\n",
       "      <td>1.000000</td>\n",
       "      <td>201.000000</td>\n",
       "    </tr>\n",
       "    <tr>\n",
       "      <th>max</th>\n",
       "      <td>4.556085e+07</td>\n",
       "      <td>3.679176e+08</td>\n",
       "      <td>47.734620</td>\n",
       "      <td>-70.995950</td>\n",
       "      <td>1.000000e+08</td>\n",
       "      <td>966.000000</td>\n",
       "      <td>44.060000</td>\n",
       "      <td>593.000000</td>\n",
       "      <td>365.000000</td>\n",
       "      <td>1.000000</td>\n",
       "      <td>...</td>\n",
       "      <td>1.000000</td>\n",
       "      <td>1.000000</td>\n",
       "      <td>1.000000</td>\n",
       "      <td>1.000000</td>\n",
       "      <td>1.000000</td>\n",
       "      <td>1.000000</td>\n",
       "      <td>1.000000</td>\n",
       "      <td>1.000000</td>\n",
       "      <td>1.000000</td>\n",
       "      <td>24999.000000</td>\n",
       "    </tr>\n",
       "  </tbody>\n",
       "</table>\n",
       "<p>8 rows × 77 columns</p>\n",
       "</div>"
      ],
      "text/plain": [
       "                 id       host_id       latitude      longitude  \\\n",
       "count  2.259070e+05  2.259070e+05  225907.000000  225907.000000   \n",
       "mean   2.547127e+07  9.349450e+07      35.661463    -103.226487   \n",
       "std    1.317731e+07  9.825126e+07       6.850487      26.223171   \n",
       "min    1.090000e+02  2.300000e+01      18.920990    -159.714900   \n",
       "25%    1.515937e+07  1.399275e+07      32.761740    -118.598485   \n",
       "50%    2.591136e+07  5.136456e+07      37.258690     -97.818390   \n",
       "75%    3.772203e+07  1.496354e+08      40.724010     -76.927200   \n",
       "max    4.556085e+07  3.679176e+08      47.734620     -70.995950   \n",
       "\n",
       "       minimum_nights  number_of_reviews  reviews_per_month  \\\n",
       "count    2.259070e+05      225907.000000      177375.000000   \n",
       "mean     4.527880e+02          34.517000           1.431530   \n",
       "std      2.103949e+05          63.611527           1.683214   \n",
       "min      1.000000e+00           0.000000           0.010000   \n",
       "25%      1.000000e+00           1.000000           0.230000   \n",
       "50%      2.000000e+00           8.000000           0.810000   \n",
       "75%      7.000000e+00          39.000000           2.060000   \n",
       "max      1.000000e+08         966.000000          44.060000   \n",
       "\n",
       "       calculated_host_listings_count  availability_365  city_Asheville  ...  \\\n",
       "count                   225907.000000     225907.000000   225907.000000  ...   \n",
       "mean                        16.705613        159.367554        0.009181  ...   \n",
       "std                         51.081737        140.172911        0.095376  ...   \n",
       "min                          1.000000          0.000000        0.000000  ...   \n",
       "25%                          1.000000          0.000000        0.000000  ...   \n",
       "50%                          2.000000        140.000000        0.000000  ...   \n",
       "75%                          6.000000        311.000000        0.000000  ...   \n",
       "max                        593.000000        365.000000        1.000000  ...   \n",
       "\n",
       "       neighbourhood_group_Queens  neighbourhood_group_Rainier Valley  \\\n",
       "count               225907.000000                       225907.000000   \n",
       "mean                     0.025426                            0.001580   \n",
       "std                      0.157417                            0.039722   \n",
       "min                      0.000000                            0.000000   \n",
       "25%                      0.000000                            0.000000   \n",
       "50%                      0.000000                            0.000000   \n",
       "75%                      0.000000                            0.000000   \n",
       "max                      1.000000                            1.000000   \n",
       "\n",
       "       neighbourhood_group_Seward Park  neighbourhood_group_Staten Island  \\\n",
       "count                    225907.000000                      225907.000000   \n",
       "mean                          0.000305                           0.001443   \n",
       "std                           0.017474                           0.037960   \n",
       "min                           0.000000                           0.000000   \n",
       "25%                           0.000000                           0.000000   \n",
       "50%                           0.000000                           0.000000   \n",
       "75%                           0.000000                           0.000000   \n",
       "max                           1.000000                           1.000000   \n",
       "\n",
       "       neighbourhood_group_Unincorporated Areas  \\\n",
       "count                             225907.000000   \n",
       "mean                                   0.011190   \n",
       "std                                    0.105192   \n",
       "min                                    0.000000   \n",
       "25%                                    0.000000   \n",
       "50%                                    0.000000   \n",
       "75%                                    0.000000   \n",
       "max                                    1.000000   \n",
       "\n",
       "       neighbourhood_group_University District  \\\n",
       "count                            225907.000000   \n",
       "mean                                  0.001054   \n",
       "std                                   0.032441   \n",
       "min                                   0.000000   \n",
       "25%                                   0.000000   \n",
       "50%                                   0.000000   \n",
       "75%                                   0.000000   \n",
       "max                                   1.000000   \n",
       "\n",
       "       neighbourhood_group_Washington  neighbourhood_group_West Seattle  \\\n",
       "count                   225907.000000                     225907.000000   \n",
       "mean                         0.005316                          0.001673   \n",
       "std                          0.072719                          0.040871   \n",
       "min                          0.000000                          0.000000   \n",
       "25%                          0.000000                          0.000000   \n",
       "50%                          0.000000                          0.000000   \n",
       "75%                          0.000000                          0.000000   \n",
       "max                          1.000000                          1.000000   \n",
       "\n",
       "       neighbourhood_group_unknown          price  \n",
       "count                225907.000000  225907.000000  \n",
       "mean                      0.512605     219.761521  \n",
       "std                       0.499842     570.431521  \n",
       "min                       0.000000       1.000000  \n",
       "25%                       0.000000      75.000000  \n",
       "50%                       1.000000     122.000000  \n",
       "75%                       1.000000     201.000000  \n",
       "max                       1.000000   24999.000000  \n",
       "\n",
       "[8 rows x 77 columns]"
      ]
     },
     "execution_count": 503,
     "metadata": {},
     "output_type": "execute_result"
    }
   ],
   "source": [
    "df.describe()"
   ]
  }
 ],
 "metadata": {
  "kernelspec": {
   "display_name": "Python 3 (ipykernel)",
   "language": "python",
   "name": "python3"
  },
  "language_info": {
   "codemirror_mode": {
    "name": "ipython",
    "version": 3
   },
   "file_extension": ".py",
   "mimetype": "text/x-python",
   "name": "python",
   "nbconvert_exporter": "python",
   "pygments_lexer": "ipython3",
   "version": "3.10.0"
  }
 },
 "nbformat": 4,
 "nbformat_minor": 5
}
