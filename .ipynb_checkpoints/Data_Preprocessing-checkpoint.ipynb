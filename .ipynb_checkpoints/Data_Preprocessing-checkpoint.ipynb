{
 "cells": [
  {
   "cell_type": "markdown",
   "id": "d5b54dfd",
   "metadata": {},
   "source": [
    "# Data Preprocessing"
   ]
  },
  {
   "cell_type": "markdown",
   "id": "a01fb412",
   "metadata": {
    "heading_collapsed": true
   },
   "source": [
    "## Importing the libraries"
   ]
  },
  {
   "cell_type": "code",
   "execution_count": 15,
   "id": "7c2e1d38",
   "metadata": {
    "hidden": true
   },
   "outputs": [],
   "source": [
    "import pandas as pd\n",
    "import numpy as np\n",
    "import matplotlib.pyplot as plt"
   ]
  },
  {
   "cell_type": "markdown",
   "id": "e3939d00",
   "metadata": {},
   "source": [
    "## Importing the dataset"
   ]
  },
  {
   "cell_type": "code",
   "execution_count": 16,
   "id": "b2990eac",
   "metadata": {},
   "outputs": [
    {
     "name": "stderr",
     "output_type": "stream",
     "text": [
      "C:\\Users\\sohmt\\Python310\\lib\\site-packages\\IPython\\core\\interactiveshell.py:3444: DtypeWarning: Columns (4) have mixed types.Specify dtype option on import or set low_memory=False.\n",
      "  exec(code_obj, self.user_global_ns, self.user_ns)\n"
     ]
    }
   ],
   "source": [
    "df=pd.read_csv('AB_US_2020.csv')"
   ]
  },
  {
   "cell_type": "markdown",
   "id": "d5f8bf36",
   "metadata": {},
   "source": [
    "for handling the DtypeWarning: Columns (4) have mixed types.Specify dtype option on import or set low_memory=False.\n",
    "\n",
    "https://www.roelpeters.be/solved-dtypewarning-columns-have-mixed-types-specify-dtype-option-on-import-or-set-low-memory-in-pandas/"
   ]
  },
  {
   "cell_type": "code",
   "execution_count": 17,
   "id": "1df5441f",
   "metadata": {},
   "outputs": [],
   "source": [
    "df=pd.read_csv('AB_US_2020.csv', low_memory=False)"
   ]
  },
  {
   "cell_type": "code",
   "execution_count": 18,
   "id": "f9cb5b5e",
   "metadata": {},
   "outputs": [
    {
     "data": {
      "text/plain": [
       "(226030, 17)"
      ]
     },
     "execution_count": 18,
     "metadata": {},
     "output_type": "execute_result"
    }
   ],
   "source": [
    "df.shape"
   ]
  },
  {
   "cell_type": "code",
   "execution_count": 19,
   "id": "14f3461c",
   "metadata": {},
   "outputs": [
    {
     "data": {
      "text/plain": [
       "Index(['id', 'name', 'host_id', 'host_name', 'neighbourhood_group',\n",
       "       'neighbourhood', 'latitude', 'longitude', 'room_type', 'price',\n",
       "       'minimum_nights', 'number_of_reviews', 'last_review',\n",
       "       'reviews_per_month', 'calculated_host_listings_count',\n",
       "       'availability_365', 'city'],\n",
       "      dtype='object')"
      ]
     },
     "execution_count": 19,
     "metadata": {},
     "output_type": "execute_result"
    }
   ],
   "source": [
    "df.columns"
   ]
  },
  {
   "cell_type": "code",
   "execution_count": 20,
   "id": "ec258a5d",
   "metadata": {},
   "outputs": [
    {
     "data": {
      "text/html": [
       "<div>\n",
       "<style scoped>\n",
       "    .dataframe tbody tr th:only-of-type {\n",
       "        vertical-align: middle;\n",
       "    }\n",
       "\n",
       "    .dataframe tbody tr th {\n",
       "        vertical-align: top;\n",
       "    }\n",
       "\n",
       "    .dataframe thead th {\n",
       "        text-align: right;\n",
       "    }\n",
       "</style>\n",
       "<table border=\"1\" class=\"dataframe\">\n",
       "  <thead>\n",
       "    <tr style=\"text-align: right;\">\n",
       "      <th></th>\n",
       "      <th>id</th>\n",
       "      <th>name</th>\n",
       "      <th>host_id</th>\n",
       "      <th>host_name</th>\n",
       "      <th>neighbourhood_group</th>\n",
       "      <th>neighbourhood</th>\n",
       "      <th>latitude</th>\n",
       "      <th>longitude</th>\n",
       "      <th>room_type</th>\n",
       "      <th>price</th>\n",
       "      <th>minimum_nights</th>\n",
       "      <th>number_of_reviews</th>\n",
       "      <th>last_review</th>\n",
       "      <th>reviews_per_month</th>\n",
       "      <th>calculated_host_listings_count</th>\n",
       "      <th>availability_365</th>\n",
       "      <th>city</th>\n",
       "    </tr>\n",
       "  </thead>\n",
       "  <tbody>\n",
       "    <tr>\n",
       "      <th>0</th>\n",
       "      <td>38585</td>\n",
       "      <td>Charming Victorian home - twin beds + breakfast</td>\n",
       "      <td>165529</td>\n",
       "      <td>Evelyne</td>\n",
       "      <td>NaN</td>\n",
       "      <td>28804</td>\n",
       "      <td>35.65146</td>\n",
       "      <td>-82.62792</td>\n",
       "      <td>Private room</td>\n",
       "      <td>60</td>\n",
       "      <td>1</td>\n",
       "      <td>138</td>\n",
       "      <td>16/02/20</td>\n",
       "      <td>1.14</td>\n",
       "      <td>1</td>\n",
       "      <td>0</td>\n",
       "      <td>Asheville</td>\n",
       "    </tr>\n",
       "    <tr>\n",
       "      <th>1</th>\n",
       "      <td>80905</td>\n",
       "      <td>French Chic Loft</td>\n",
       "      <td>427027</td>\n",
       "      <td>Celeste</td>\n",
       "      <td>NaN</td>\n",
       "      <td>28801</td>\n",
       "      <td>35.59779</td>\n",
       "      <td>-82.55540</td>\n",
       "      <td>Entire home/apt</td>\n",
       "      <td>470</td>\n",
       "      <td>1</td>\n",
       "      <td>114</td>\n",
       "      <td>07/09/20</td>\n",
       "      <td>1.03</td>\n",
       "      <td>11</td>\n",
       "      <td>288</td>\n",
       "      <td>Asheville</td>\n",
       "    </tr>\n",
       "    <tr>\n",
       "      <th>2</th>\n",
       "      <td>108061</td>\n",
       "      <td>Walk to stores/parks/downtown. Fenced yard/Pet...</td>\n",
       "      <td>320564</td>\n",
       "      <td>Lisa</td>\n",
       "      <td>NaN</td>\n",
       "      <td>28801</td>\n",
       "      <td>35.60670</td>\n",
       "      <td>-82.55563</td>\n",
       "      <td>Entire home/apt</td>\n",
       "      <td>75</td>\n",
       "      <td>30</td>\n",
       "      <td>89</td>\n",
       "      <td>30/11/19</td>\n",
       "      <td>0.81</td>\n",
       "      <td>2</td>\n",
       "      <td>298</td>\n",
       "      <td>Asheville</td>\n",
       "    </tr>\n",
       "    <tr>\n",
       "      <th>3</th>\n",
       "      <td>155305</td>\n",
       "      <td>Cottage! BonPaul + Sharky's Hostel</td>\n",
       "      <td>746673</td>\n",
       "      <td>BonPaul</td>\n",
       "      <td>NaN</td>\n",
       "      <td>28806</td>\n",
       "      <td>35.57864</td>\n",
       "      <td>-82.59578</td>\n",
       "      <td>Entire home/apt</td>\n",
       "      <td>90</td>\n",
       "      <td>1</td>\n",
       "      <td>267</td>\n",
       "      <td>22/09/20</td>\n",
       "      <td>2.39</td>\n",
       "      <td>5</td>\n",
       "      <td>0</td>\n",
       "      <td>Asheville</td>\n",
       "    </tr>\n",
       "    <tr>\n",
       "      <th>4</th>\n",
       "      <td>160594</td>\n",
       "      <td>Historic Grove Park</td>\n",
       "      <td>769252</td>\n",
       "      <td>Elizabeth</td>\n",
       "      <td>NaN</td>\n",
       "      <td>28801</td>\n",
       "      <td>35.61442</td>\n",
       "      <td>-82.54127</td>\n",
       "      <td>Private room</td>\n",
       "      <td>125</td>\n",
       "      <td>30</td>\n",
       "      <td>58</td>\n",
       "      <td>19/10/15</td>\n",
       "      <td>0.52</td>\n",
       "      <td>1</td>\n",
       "      <td>0</td>\n",
       "      <td>Asheville</td>\n",
       "    </tr>\n",
       "  </tbody>\n",
       "</table>\n",
       "</div>"
      ],
      "text/plain": [
       "       id                                               name  host_id  \\\n",
       "0   38585    Charming Victorian home - twin beds + breakfast   165529   \n",
       "1   80905                                   French Chic Loft   427027   \n",
       "2  108061  Walk to stores/parks/downtown. Fenced yard/Pet...   320564   \n",
       "3  155305                 Cottage! BonPaul + Sharky's Hostel   746673   \n",
       "4  160594                                Historic Grove Park   769252   \n",
       "\n",
       "   host_name neighbourhood_group neighbourhood  latitude  longitude  \\\n",
       "0    Evelyne                 NaN         28804  35.65146  -82.62792   \n",
       "1    Celeste                 NaN         28801  35.59779  -82.55540   \n",
       "2       Lisa                 NaN         28801  35.60670  -82.55563   \n",
       "3    BonPaul                 NaN         28806  35.57864  -82.59578   \n",
       "4  Elizabeth                 NaN         28801  35.61442  -82.54127   \n",
       "\n",
       "         room_type  price  minimum_nights  number_of_reviews last_review  \\\n",
       "0     Private room     60               1                138    16/02/20   \n",
       "1  Entire home/apt    470               1                114    07/09/20   \n",
       "2  Entire home/apt     75              30                 89    30/11/19   \n",
       "3  Entire home/apt     90               1                267    22/09/20   \n",
       "4     Private room    125              30                 58    19/10/15   \n",
       "\n",
       "   reviews_per_month  calculated_host_listings_count  availability_365  \\\n",
       "0               1.14                               1                 0   \n",
       "1               1.03                              11               288   \n",
       "2               0.81                               2               298   \n",
       "3               2.39                               5                 0   \n",
       "4               0.52                               1                 0   \n",
       "\n",
       "        city  \n",
       "0  Asheville  \n",
       "1  Asheville  \n",
       "2  Asheville  \n",
       "3  Asheville  \n",
       "4  Asheville  "
      ]
     },
     "execution_count": 20,
     "metadata": {},
     "output_type": "execute_result"
    }
   ],
   "source": [
    "df.head()"
   ]
  },
  {
   "cell_type": "code",
   "execution_count": 21,
   "id": "78c11759",
   "metadata": {},
   "outputs": [],
   "source": [
    "df_ch = df[df['neighbourhood_group']=='Manhattan']"
   ]
  },
  {
   "cell_type": "code",
   "execution_count": 22,
   "id": "9b906bdc",
   "metadata": {},
   "outputs": [
    {
     "data": {
      "text/plain": [
       "(20236, 17)"
      ]
     },
     "execution_count": 22,
     "metadata": {},
     "output_type": "execute_result"
    }
   ],
   "source": [
    "df_ch.shape"
   ]
  },
  {
   "cell_type": "code",
   "execution_count": 23,
   "id": "f8728a0c",
   "metadata": {},
   "outputs": [
    {
     "data": {
      "text/html": [
       "<div>\n",
       "<style scoped>\n",
       "    .dataframe tbody tr th:only-of-type {\n",
       "        vertical-align: middle;\n",
       "    }\n",
       "\n",
       "    .dataframe tbody tr th {\n",
       "        vertical-align: top;\n",
       "    }\n",
       "\n",
       "    .dataframe thead th {\n",
       "        text-align: right;\n",
       "    }\n",
       "</style>\n",
       "<table border=\"1\" class=\"dataframe\">\n",
       "  <thead>\n",
       "    <tr style=\"text-align: right;\">\n",
       "      <th></th>\n",
       "      <th>id</th>\n",
       "      <th>name</th>\n",
       "      <th>host_id</th>\n",
       "      <th>host_name</th>\n",
       "      <th>neighbourhood_group</th>\n",
       "      <th>neighbourhood</th>\n",
       "      <th>latitude</th>\n",
       "      <th>longitude</th>\n",
       "      <th>room_type</th>\n",
       "      <th>price</th>\n",
       "      <th>minimum_nights</th>\n",
       "      <th>number_of_reviews</th>\n",
       "      <th>last_review</th>\n",
       "      <th>reviews_per_month</th>\n",
       "      <th>calculated_host_listings_count</th>\n",
       "      <th>availability_365</th>\n",
       "      <th>city</th>\n",
       "    </tr>\n",
       "  </thead>\n",
       "  <tbody>\n",
       "    <tr>\n",
       "      <th>117155</th>\n",
       "      <td>2595</td>\n",
       "      <td>Skylit Midtown Castle</td>\n",
       "      <td>2845</td>\n",
       "      <td>Jennifer</td>\n",
       "      <td>Manhattan</td>\n",
       "      <td>Midtown</td>\n",
       "      <td>40.75362</td>\n",
       "      <td>-73.98377</td>\n",
       "      <td>Entire home/apt</td>\n",
       "      <td>175</td>\n",
       "      <td>3</td>\n",
       "      <td>48</td>\n",
       "      <td>04/11/19</td>\n",
       "      <td>0.37</td>\n",
       "      <td>2</td>\n",
       "      <td>365</td>\n",
       "      <td>New York City</td>\n",
       "    </tr>\n",
       "    <tr>\n",
       "      <th>117159</th>\n",
       "      <td>5178</td>\n",
       "      <td>Large Furnished Room Near B'way„ÄÄ</td>\n",
       "      <td>8967</td>\n",
       "      <td>Shunichi</td>\n",
       "      <td>Manhattan</td>\n",
       "      <td>Hell's Kitchen</td>\n",
       "      <td>40.76489</td>\n",
       "      <td>-73.98493</td>\n",
       "      <td>Private room</td>\n",
       "      <td>79</td>\n",
       "      <td>2</td>\n",
       "      <td>473</td>\n",
       "      <td>15/03/20</td>\n",
       "      <td>3.42</td>\n",
       "      <td>1</td>\n",
       "      <td>346</td>\n",
       "      <td>New York City</td>\n",
       "    </tr>\n",
       "    <tr>\n",
       "      <th>117160</th>\n",
       "      <td>5203</td>\n",
       "      <td>Cozy Clean Guest Room - Family Apt</td>\n",
       "      <td>7490</td>\n",
       "      <td>MaryEllen</td>\n",
       "      <td>Manhattan</td>\n",
       "      <td>Upper West Side</td>\n",
       "      <td>40.80178</td>\n",
       "      <td>-73.96723</td>\n",
       "      <td>Private room</td>\n",
       "      <td>75</td>\n",
       "      <td>2</td>\n",
       "      <td>118</td>\n",
       "      <td>21/07/17</td>\n",
       "      <td>0.88</td>\n",
       "      <td>1</td>\n",
       "      <td>0</td>\n",
       "      <td>New York City</td>\n",
       "    </tr>\n",
       "    <tr>\n",
       "      <th>117161</th>\n",
       "      <td>5238</td>\n",
       "      <td>Cute &amp; Cozy Lower East Side 1 bdrm</td>\n",
       "      <td>7549</td>\n",
       "      <td>Ben</td>\n",
       "      <td>Manhattan</td>\n",
       "      <td>Chinatown</td>\n",
       "      <td>40.71344</td>\n",
       "      <td>-73.99037</td>\n",
       "      <td>Entire home/apt</td>\n",
       "      <td>140</td>\n",
       "      <td>1</td>\n",
       "      <td>161</td>\n",
       "      <td>29/07/19</td>\n",
       "      <td>1.20</td>\n",
       "      <td>4</td>\n",
       "      <td>288</td>\n",
       "      <td>New York City</td>\n",
       "    </tr>\n",
       "    <tr>\n",
       "      <th>117162</th>\n",
       "      <td>5552</td>\n",
       "      <td>Spacious river view in the West Village</td>\n",
       "      <td>8380</td>\n",
       "      <td>Maria</td>\n",
       "      <td>Manhattan</td>\n",
       "      <td>West Village</td>\n",
       "      <td>40.73552</td>\n",
       "      <td>-74.01042</td>\n",
       "      <td>Entire home/apt</td>\n",
       "      <td>160</td>\n",
       "      <td>3</td>\n",
       "      <td>66</td>\n",
       "      <td>10/08/19</td>\n",
       "      <td>0.49</td>\n",
       "      <td>1</td>\n",
       "      <td>96</td>\n",
       "      <td>New York City</td>\n",
       "    </tr>\n",
       "  </tbody>\n",
       "</table>\n",
       "</div>"
      ],
      "text/plain": [
       "          id                                     name  host_id  host_name  \\\n",
       "117155  2595                    Skylit Midtown Castle     2845   Jennifer   \n",
       "117159  5178       Large Furnished Room Near B'way„ÄÄ     8967   Shunichi   \n",
       "117160  5203       Cozy Clean Guest Room - Family Apt     7490  MaryEllen   \n",
       "117161  5238       Cute & Cozy Lower East Side 1 bdrm     7549        Ben   \n",
       "117162  5552  Spacious river view in the West Village     8380      Maria   \n",
       "\n",
       "       neighbourhood_group    neighbourhood  latitude  longitude  \\\n",
       "117155           Manhattan          Midtown  40.75362  -73.98377   \n",
       "117159           Manhattan   Hell's Kitchen  40.76489  -73.98493   \n",
       "117160           Manhattan  Upper West Side  40.80178  -73.96723   \n",
       "117161           Manhattan        Chinatown  40.71344  -73.99037   \n",
       "117162           Manhattan     West Village  40.73552  -74.01042   \n",
       "\n",
       "              room_type  price  minimum_nights  number_of_reviews last_review  \\\n",
       "117155  Entire home/apt    175               3                 48    04/11/19   \n",
       "117159     Private room     79               2                473    15/03/20   \n",
       "117160     Private room     75               2                118    21/07/17   \n",
       "117161  Entire home/apt    140               1                161    29/07/19   \n",
       "117162  Entire home/apt    160               3                 66    10/08/19   \n",
       "\n",
       "        reviews_per_month  calculated_host_listings_count  availability_365  \\\n",
       "117155               0.37                               2               365   \n",
       "117159               3.42                               1               346   \n",
       "117160               0.88                               1                 0   \n",
       "117161               1.20                               4               288   \n",
       "117162               0.49                               1                96   \n",
       "\n",
       "                 city  \n",
       "117155  New York City  \n",
       "117159  New York City  \n",
       "117160  New York City  \n",
       "117161  New York City  \n",
       "117162  New York City  "
      ]
     },
     "execution_count": 23,
     "metadata": {},
     "output_type": "execute_result"
    }
   ],
   "source": [
    "df_ch.head()"
   ]
  },
  {
   "cell_type": "code",
   "execution_count": 24,
   "id": "cc6d761a",
   "metadata": {},
   "outputs": [],
   "source": [
    "df_cht = df[df['price']==0]"
   ]
  },
  {
   "cell_type": "code",
   "execution_count": 25,
   "id": "bcbaa1d7",
   "metadata": {},
   "outputs": [
    {
     "data": {
      "text/plain": [
       "(62, 17)"
      ]
     },
     "execution_count": 25,
     "metadata": {},
     "output_type": "execute_result"
    }
   ],
   "source": [
    "df_cht.shape"
   ]
  },
  {
   "cell_type": "code",
   "execution_count": 26,
   "id": "ab6f318a",
   "metadata": {},
   "outputs": [
    {
     "data": {
      "text/html": [
       "<div>\n",
       "<style scoped>\n",
       "    .dataframe tbody tr th:only-of-type {\n",
       "        vertical-align: middle;\n",
       "    }\n",
       "\n",
       "    .dataframe tbody tr th {\n",
       "        vertical-align: top;\n",
       "    }\n",
       "\n",
       "    .dataframe thead th {\n",
       "        text-align: right;\n",
       "    }\n",
       "</style>\n",
       "<table border=\"1\" class=\"dataframe\">\n",
       "  <thead>\n",
       "    <tr style=\"text-align: right;\">\n",
       "      <th></th>\n",
       "      <th>id</th>\n",
       "      <th>name</th>\n",
       "      <th>host_id</th>\n",
       "      <th>host_name</th>\n",
       "      <th>neighbourhood_group</th>\n",
       "      <th>neighbourhood</th>\n",
       "      <th>latitude</th>\n",
       "      <th>longitude</th>\n",
       "      <th>room_type</th>\n",
       "      <th>price</th>\n",
       "      <th>minimum_nights</th>\n",
       "      <th>number_of_reviews</th>\n",
       "      <th>last_review</th>\n",
       "      <th>reviews_per_month</th>\n",
       "      <th>calculated_host_listings_count</th>\n",
       "      <th>availability_365</th>\n",
       "      <th>city</th>\n",
       "    </tr>\n",
       "  </thead>\n",
       "  <tbody>\n",
       "    <tr>\n",
       "      <th>11106</th>\n",
       "      <td>42738847</td>\n",
       "      <td>Hotel Granduca Austin</td>\n",
       "      <td>314291208</td>\n",
       "      <td>Hotel Granduca</td>\n",
       "      <td>NaN</td>\n",
       "      <td>78746</td>\n",
       "      <td>30.30181</td>\n",
       "      <td>-97.82910</td>\n",
       "      <td>Hotel room</td>\n",
       "      <td>0</td>\n",
       "      <td>1</td>\n",
       "      <td>0</td>\n",
       "      <td>NaN</td>\n",
       "      <td>NaN</td>\n",
       "      <td>1</td>\n",
       "      <td>0</td>\n",
       "      <td>Austin</td>\n",
       "    </tr>\n",
       "    <tr>\n",
       "      <th>15171</th>\n",
       "      <td>41740613</td>\n",
       "      <td>The Revolution Hotel</td>\n",
       "      <td>228911273</td>\n",
       "      <td>The Revolution Hotel</td>\n",
       "      <td>NaN</td>\n",
       "      <td>South End</td>\n",
       "      <td>42.34591</td>\n",
       "      <td>-71.07090</td>\n",
       "      <td>Hotel room</td>\n",
       "      <td>0</td>\n",
       "      <td>1</td>\n",
       "      <td>0</td>\n",
       "      <td>NaN</td>\n",
       "      <td>NaN</td>\n",
       "      <td>1</td>\n",
       "      <td>0</td>\n",
       "      <td>Boston</td>\n",
       "    </tr>\n",
       "    <tr>\n",
       "      <th>15218</th>\n",
       "      <td>42065558</td>\n",
       "      <td>Boston Fenway Inn</td>\n",
       "      <td>308490585</td>\n",
       "      <td>Boston Fenway Inn</td>\n",
       "      <td>NaN</td>\n",
       "      <td>Fenway</td>\n",
       "      <td>42.34637</td>\n",
       "      <td>-71.08882</td>\n",
       "      <td>Hotel room</td>\n",
       "      <td>0</td>\n",
       "      <td>1</td>\n",
       "      <td>0</td>\n",
       "      <td>NaN</td>\n",
       "      <td>NaN</td>\n",
       "      <td>1</td>\n",
       "      <td>0</td>\n",
       "      <td>Boston</td>\n",
       "    </tr>\n",
       "    <tr>\n",
       "      <th>18071</th>\n",
       "      <td>18841208</td>\n",
       "      <td>GREAT LAKE VIEW ROOM FOR RENT</td>\n",
       "      <td>122563804</td>\n",
       "      <td>Francisco</td>\n",
       "      <td>NaN</td>\n",
       "      <td>Oakland Park</td>\n",
       "      <td>26.18349</td>\n",
       "      <td>-80.19390</td>\n",
       "      <td>Private room</td>\n",
       "      <td>0</td>\n",
       "      <td>1</td>\n",
       "      <td>1</td>\n",
       "      <td>29/06/17</td>\n",
       "      <td>0.03</td>\n",
       "      <td>1</td>\n",
       "      <td>0</td>\n",
       "      <td>Broward County</td>\n",
       "    </tr>\n",
       "    <tr>\n",
       "      <th>18344</th>\n",
       "      <td>20477892</td>\n",
       "      <td>Sea Esta 3 bedroom waterfront pool home</td>\n",
       "      <td>9743916</td>\n",
       "      <td>Michelle</td>\n",
       "      <td>NaN</td>\n",
       "      <td>Pompano Beach</td>\n",
       "      <td>26.21769</td>\n",
       "      <td>-80.10857</td>\n",
       "      <td>Entire home/apt</td>\n",
       "      <td>0</td>\n",
       "      <td>3</td>\n",
       "      <td>5</td>\n",
       "      <td>13/05/19</td>\n",
       "      <td>0.18</td>\n",
       "      <td>4</td>\n",
       "      <td>358</td>\n",
       "      <td>Broward County</td>\n",
       "    </tr>\n",
       "  </tbody>\n",
       "</table>\n",
       "</div>"
      ],
      "text/plain": [
       "             id                                     name    host_id  \\\n",
       "11106  42738847                    Hotel Granduca Austin  314291208   \n",
       "15171  41740613                     The Revolution Hotel  228911273   \n",
       "15218  42065558                        Boston Fenway Inn  308490585   \n",
       "18071  18841208            GREAT LAKE VIEW ROOM FOR RENT  122563804   \n",
       "18344  20477892  Sea Esta 3 bedroom waterfront pool home    9743916   \n",
       "\n",
       "                  host_name neighbourhood_group  neighbourhood  latitude  \\\n",
       "11106        Hotel Granduca                 NaN          78746  30.30181   \n",
       "15171  The Revolution Hotel                 NaN      South End  42.34591   \n",
       "15218     Boston Fenway Inn                 NaN         Fenway  42.34637   \n",
       "18071             Francisco                 NaN   Oakland Park  26.18349   \n",
       "18344              Michelle                 NaN  Pompano Beach  26.21769   \n",
       "\n",
       "       longitude        room_type  price  minimum_nights  number_of_reviews  \\\n",
       "11106  -97.82910       Hotel room      0               1                  0   \n",
       "15171  -71.07090       Hotel room      0               1                  0   \n",
       "15218  -71.08882       Hotel room      0               1                  0   \n",
       "18071  -80.19390     Private room      0               1                  1   \n",
       "18344  -80.10857  Entire home/apt      0               3                  5   \n",
       "\n",
       "      last_review  reviews_per_month  calculated_host_listings_count  \\\n",
       "11106         NaN                NaN                               1   \n",
       "15171         NaN                NaN                               1   \n",
       "15218         NaN                NaN                               1   \n",
       "18071    29/06/17               0.03                               1   \n",
       "18344    13/05/19               0.18                               4   \n",
       "\n",
       "       availability_365            city  \n",
       "11106                 0          Austin  \n",
       "15171                 0          Boston  \n",
       "15218                 0          Boston  \n",
       "18071                 0  Broward County  \n",
       "18344               358  Broward County  "
      ]
     },
     "execution_count": 26,
     "metadata": {},
     "output_type": "execute_result"
    }
   ],
   "source": [
    "df_cht.head()"
   ]
  },
  {
   "cell_type": "code",
   "execution_count": 27,
   "id": "a69377d2",
   "metadata": {},
   "outputs": [
    {
     "data": {
      "text/plain": [
       "id                                  int64\n",
       "name                               object\n",
       "host_id                             int64\n",
       "host_name                          object\n",
       "neighbourhood_group                object\n",
       "neighbourhood                      object\n",
       "latitude                          float64\n",
       "longitude                         float64\n",
       "room_type                          object\n",
       "price                               int64\n",
       "minimum_nights                      int64\n",
       "number_of_reviews                   int64\n",
       "last_review                        object\n",
       "reviews_per_month                 float64\n",
       "calculated_host_listings_count      int64\n",
       "availability_365                    int64\n",
       "city                               object\n",
       "dtype: object"
      ]
     },
     "execution_count": 27,
     "metadata": {},
     "output_type": "execute_result"
    }
   ],
   "source": [
    "df.dtypes"
   ]
  },
  {
   "cell_type": "code",
   "execution_count": 28,
   "id": "1ab80213",
   "metadata": {
    "scrolled": true
   },
   "outputs": [
    {
     "data": {
      "text/plain": [
       "id                                     0\n",
       "name                                  28\n",
       "host_id                                0\n",
       "host_name                             33\n",
       "neighbourhood_group               115845\n",
       "neighbourhood                          0\n",
       "latitude                               0\n",
       "longitude                              0\n",
       "room_type                              0\n",
       "price                                  0\n",
       "minimum_nights                         0\n",
       "number_of_reviews                      0\n",
       "last_review                        48602\n",
       "reviews_per_month                  48602\n",
       "calculated_host_listings_count         0\n",
       "availability_365                       0\n",
       "city                                   0\n",
       "dtype: int64"
      ]
     },
     "execution_count": 28,
     "metadata": {},
     "output_type": "execute_result"
    }
   ],
   "source": [
    "df.isna().sum()"
   ]
  },
  {
   "cell_type": "raw",
   "id": "4ca36ffd",
   "metadata": {},
   "source": [
    "Columns with missing values:\n",
    "\n",
    "name                                  28 \n",
    "host_name                             33\n",
    "neighbourhood_group               115845\n",
    "last_review                        48602\n",
    "reviews_per_month                  48602"
   ]
  },
  {
   "cell_type": "code",
   "execution_count": 29,
   "id": "09dd2101",
   "metadata": {
    "scrolled": true
   },
   "outputs": [
    {
     "data": {
      "text/plain": [
       "Home away from home                                75\n",
       "A place of your own | 2BR in Las Vegas             62\n",
       "Cozy place to call home | 1BR in Los Angeles       48\n",
       "Stay in a place of your own | 1BR in Washington    43\n",
       "Union Square Convention Hotel                      40\n",
       "                                                   ..\n",
       "Private Floor with Bedroom and Bath near Malibu     1\n",
       "Centrally located, beautiful, 2 bd                  1\n",
       "Magical 3 BR Spanish Designer Home!                 1\n",
       "Relax, Unwind & Have A Little Fun!                  1\n",
       "Beautiful large one-bedroom w/ washer and dryer     1\n",
       "Name: name, Length: 218443, dtype: int64"
      ]
     },
     "execution_count": 29,
     "metadata": {},
     "output_type": "execute_result"
    }
   ],
   "source": [
    "df.name.value_counts()"
   ]
  },
  {
   "cell_type": "code",
   "execution_count": 30,
   "id": "169509ab",
   "metadata": {},
   "outputs": [
    {
     "data": {
      "text/plain": [
       "Michael            2025\n",
       "David              1656\n",
       "John               1418\n",
       "Zeus               1217\n",
       "Blueground         1172\n",
       "                   ... \n",
       "Justin You            1\n",
       "Chavi                 1\n",
       "John And Laurie       1\n",
       "Jonie                 1\n",
       "Bassem                1\n",
       "Name: host_name, Length: 30533, dtype: int64"
      ]
     },
     "execution_count": 30,
     "metadata": {},
     "output_type": "execute_result"
    }
   ],
   "source": [
    "df.host_name.value_counts()"
   ]
  },
  {
   "cell_type": "code",
   "execution_count": 31,
   "id": "97014763",
   "metadata": {
    "scrolled": true
   },
   "outputs": [
    {
     "data": {
      "text/plain": [
       "Manhattan               20236\n",
       "Brooklyn                18263\n",
       "City of Los Angeles     17544\n",
       "Other Cities            11463\n",
       "Maui                     7897\n",
       "Honolulu                 6313\n",
       "Queens                   5746\n",
       "Hawaii                   4977\n",
       "Kauai                    3247\n",
       "Unincorporated Areas     2529\n",
       "Newport                  1412\n",
       "Other neighborhoods      1253\n",
       "Washington               1201\n",
       "Bronx                    1185\n",
       "Providence               1056\n",
       "Downtown                 1043\n",
       "Capitol Hill              682\n",
       "Central Area              572\n",
       "Queen Anne                459\n",
       "West Seattle              378\n",
       "Ballard                   369\n",
       "Rainier Valley            357\n",
       "Staten Island             326\n",
       "Cascade                   268\n",
       "Beacon Hill               252\n",
       "University District       238\n",
       "Delridge                  201\n",
       "Northgate                 150\n",
       "Magnolia                  132\n",
       "Lake City                 118\n",
       "Kent                      108\n",
       "Bristol                   107\n",
       "Seward Park                69\n",
       "Interbay                   34\n",
       "Name: neighbourhood_group, dtype: int64"
      ]
     },
     "execution_count": 31,
     "metadata": {},
     "output_type": "execute_result"
    }
   ],
   "source": [
    "df.neighbourhood_group.value_counts()"
   ]
  },
  {
   "cell_type": "code",
   "execution_count": 32,
   "id": "e02a2ce2",
   "metadata": {
    "scrolled": false
   },
   "outputs": [
    {
     "data": {
      "text/plain": [
       "15/03/20    2915\n",
       "07/09/20    2080\n",
       "08/03/20    1989\n",
       "23/08/20    1929\n",
       "16/03/20    1816\n",
       "            ... \n",
       "19/05/14       1\n",
       "01/05/15       1\n",
       "22/04/15       1\n",
       "23/03/14       1\n",
       "29/04/15       1\n",
       "Name: last_review, Length: 2377, dtype: int64"
      ]
     },
     "execution_count": 32,
     "metadata": {},
     "output_type": "execute_result"
    }
   ],
   "source": [
    "df.last_review.value_counts()"
   ]
  },
  {
   "cell_type": "code",
   "execution_count": 33,
   "id": "38e010d8",
   "metadata": {
    "scrolled": true
   },
   "outputs": [
    {
     "data": {
      "text/plain": [
       "0.03     2836\n",
       "0.02     2758\n",
       "0.08     2525\n",
       "0.04     2482\n",
       "0.06     2407\n",
       "         ... \n",
       "12.91       1\n",
       "9.44        1\n",
       "13.34       1\n",
       "11.41       1\n",
       "9.45        1\n",
       "Name: reviews_per_month, Length: 1242, dtype: int64"
      ]
     },
     "execution_count": 33,
     "metadata": {},
     "output_type": "execute_result"
    }
   ],
   "source": [
    "df.reviews_per_month.value_counts()"
   ]
  },
  {
   "cell_type": "code",
   "execution_count": 34,
   "id": "2342d2b0",
   "metadata": {},
   "outputs": [
    {
     "data": {
      "text/plain": [
       "True"
      ]
     },
     "execution_count": 34,
     "metadata": {},
     "output_type": "execute_result"
    }
   ],
   "source": [
    "# Same indexes have null values for columns of 'reviews_per_month' & 'last_review'\n",
    "df[df['reviews_per_month'].isnull()].index.tolist()==df[df['last_review'].isnull()].index.tolist()"
   ]
  },
  {
   "cell_type": "code",
   "execution_count": 35,
   "id": "f90af745",
   "metadata": {},
   "outputs": [
    {
     "data": {
      "text/plain": [
       "array(['Private room', 'Entire home/apt', 'Hotel room', 'Shared room'],\n",
       "      dtype=object)"
      ]
     },
     "execution_count": 35,
     "metadata": {},
     "output_type": "execute_result"
    }
   ],
   "source": [
    "df.room_type.unique()"
   ]
  },
  {
   "cell_type": "code",
   "execution_count": 36,
   "id": "72cf5bd4",
   "metadata": {},
   "outputs": [],
   "source": [
    "percent_missing = df.isnull().sum() * 100 / len(df)\n",
    "missing_value_df = pd.DataFrame({'column_name': df.columns, 'percent_missing': percent_missing})"
   ]
  },
  {
   "cell_type": "code",
   "execution_count": 37,
   "id": "4f2be2ae",
   "metadata": {
    "scrolled": true
   },
   "outputs": [
    {
     "data": {
      "text/html": [
       "<div>\n",
       "<style scoped>\n",
       "    .dataframe tbody tr th:only-of-type {\n",
       "        vertical-align: middle;\n",
       "    }\n",
       "\n",
       "    .dataframe tbody tr th {\n",
       "        vertical-align: top;\n",
       "    }\n",
       "\n",
       "    .dataframe thead th {\n",
       "        text-align: right;\n",
       "    }\n",
       "</style>\n",
       "<table border=\"1\" class=\"dataframe\">\n",
       "  <thead>\n",
       "    <tr style=\"text-align: right;\">\n",
       "      <th></th>\n",
       "      <th>column_name</th>\n",
       "      <th>percent_missing</th>\n",
       "    </tr>\n",
       "  </thead>\n",
       "  <tbody>\n",
       "    <tr>\n",
       "      <th>id</th>\n",
       "      <td>id</td>\n",
       "      <td>0.000000</td>\n",
       "    </tr>\n",
       "    <tr>\n",
       "      <th>name</th>\n",
       "      <td>name</td>\n",
       "      <td>0.012388</td>\n",
       "    </tr>\n",
       "    <tr>\n",
       "      <th>host_id</th>\n",
       "      <td>host_id</td>\n",
       "      <td>0.000000</td>\n",
       "    </tr>\n",
       "    <tr>\n",
       "      <th>host_name</th>\n",
       "      <td>host_name</td>\n",
       "      <td>0.014600</td>\n",
       "    </tr>\n",
       "    <tr>\n",
       "      <th>neighbourhood_group</th>\n",
       "      <td>neighbourhood_group</td>\n",
       "      <td>51.252046</td>\n",
       "    </tr>\n",
       "    <tr>\n",
       "      <th>neighbourhood</th>\n",
       "      <td>neighbourhood</td>\n",
       "      <td>0.000000</td>\n",
       "    </tr>\n",
       "    <tr>\n",
       "      <th>latitude</th>\n",
       "      <td>latitude</td>\n",
       "      <td>0.000000</td>\n",
       "    </tr>\n",
       "    <tr>\n",
       "      <th>longitude</th>\n",
       "      <td>longitude</td>\n",
       "      <td>0.000000</td>\n",
       "    </tr>\n",
       "    <tr>\n",
       "      <th>room_type</th>\n",
       "      <td>room_type</td>\n",
       "      <td>0.000000</td>\n",
       "    </tr>\n",
       "    <tr>\n",
       "      <th>price</th>\n",
       "      <td>price</td>\n",
       "      <td>0.000000</td>\n",
       "    </tr>\n",
       "    <tr>\n",
       "      <th>minimum_nights</th>\n",
       "      <td>minimum_nights</td>\n",
       "      <td>0.000000</td>\n",
       "    </tr>\n",
       "    <tr>\n",
       "      <th>number_of_reviews</th>\n",
       "      <td>number_of_reviews</td>\n",
       "      <td>0.000000</td>\n",
       "    </tr>\n",
       "    <tr>\n",
       "      <th>last_review</th>\n",
       "      <td>last_review</td>\n",
       "      <td>21.502455</td>\n",
       "    </tr>\n",
       "    <tr>\n",
       "      <th>reviews_per_month</th>\n",
       "      <td>reviews_per_month</td>\n",
       "      <td>21.502455</td>\n",
       "    </tr>\n",
       "    <tr>\n",
       "      <th>calculated_host_listings_count</th>\n",
       "      <td>calculated_host_listings_count</td>\n",
       "      <td>0.000000</td>\n",
       "    </tr>\n",
       "    <tr>\n",
       "      <th>availability_365</th>\n",
       "      <td>availability_365</td>\n",
       "      <td>0.000000</td>\n",
       "    </tr>\n",
       "    <tr>\n",
       "      <th>city</th>\n",
       "      <td>city</td>\n",
       "      <td>0.000000</td>\n",
       "    </tr>\n",
       "  </tbody>\n",
       "</table>\n",
       "</div>"
      ],
      "text/plain": [
       "                                                   column_name  \\\n",
       "id                                                          id   \n",
       "name                                                      name   \n",
       "host_id                                                host_id   \n",
       "host_name                                            host_name   \n",
       "neighbourhood_group                        neighbourhood_group   \n",
       "neighbourhood                                    neighbourhood   \n",
       "latitude                                              latitude   \n",
       "longitude                                            longitude   \n",
       "room_type                                            room_type   \n",
       "price                                                    price   \n",
       "minimum_nights                                  minimum_nights   \n",
       "number_of_reviews                            number_of_reviews   \n",
       "last_review                                        last_review   \n",
       "reviews_per_month                            reviews_per_month   \n",
       "calculated_host_listings_count  calculated_host_listings_count   \n",
       "availability_365                              availability_365   \n",
       "city                                                      city   \n",
       "\n",
       "                                percent_missing  \n",
       "id                                     0.000000  \n",
       "name                                   0.012388  \n",
       "host_id                                0.000000  \n",
       "host_name                              0.014600  \n",
       "neighbourhood_group                   51.252046  \n",
       "neighbourhood                          0.000000  \n",
       "latitude                               0.000000  \n",
       "longitude                              0.000000  \n",
       "room_type                              0.000000  \n",
       "price                                  0.000000  \n",
       "minimum_nights                         0.000000  \n",
       "number_of_reviews                      0.000000  \n",
       "last_review                           21.502455  \n",
       "reviews_per_month                     21.502455  \n",
       "calculated_host_listings_count         0.000000  \n",
       "availability_365                       0.000000  \n",
       "city                                   0.000000  "
      ]
     },
     "execution_count": 37,
     "metadata": {},
     "output_type": "execute_result"
    }
   ],
   "source": [
    "missing_value_df\n",
    "# 51% rows have missing 'neighbourhood_group'\n",
    "# 22% rows have missing 'last_review'\n",
    "# 22% rows have missing 'reviews_per_month'"
   ]
  },
  {
   "cell_type": "markdown",
   "id": "79ce84a8",
   "metadata": {},
   "source": [
    "Find out the percentage of missing values in each column in the given dataset:\n",
    "\n",
    "https://www.thiscodeworks.com/python-find-out-the-percentage-of-missing-values-in-each-column-in-the-given-dataset-stack-overflow-python/607d4c3f6013b5001411542c"
   ]
  },
  {
   "cell_type": "code",
   "execution_count": 38,
   "id": "87574c6c",
   "metadata": {
    "scrolled": true
   },
   "outputs": [
    {
     "data": {
      "text/html": [
       "<div>\n",
       "<style scoped>\n",
       "    .dataframe tbody tr th:only-of-type {\n",
       "        vertical-align: middle;\n",
       "    }\n",
       "\n",
       "    .dataframe tbody tr th {\n",
       "        vertical-align: top;\n",
       "    }\n",
       "\n",
       "    .dataframe thead th {\n",
       "        text-align: right;\n",
       "    }\n",
       "</style>\n",
       "<table border=\"1\" class=\"dataframe\">\n",
       "  <thead>\n",
       "    <tr style=\"text-align: right;\">\n",
       "      <th></th>\n",
       "      <th>id</th>\n",
       "      <th>name</th>\n",
       "      <th>host_id</th>\n",
       "      <th>host_name</th>\n",
       "      <th>neighbourhood_group</th>\n",
       "      <th>neighbourhood</th>\n",
       "      <th>latitude</th>\n",
       "      <th>longitude</th>\n",
       "      <th>room_type</th>\n",
       "      <th>minimum_nights</th>\n",
       "      <th>number_of_reviews</th>\n",
       "      <th>last_review</th>\n",
       "      <th>reviews_per_month</th>\n",
       "      <th>calculated_host_listings_count</th>\n",
       "      <th>availability_365</th>\n",
       "      <th>city</th>\n",
       "      <th>price</th>\n",
       "    </tr>\n",
       "  </thead>\n",
       "  <tbody>\n",
       "    <tr>\n",
       "      <th>0</th>\n",
       "      <td>38585</td>\n",
       "      <td>Charming Victorian home - twin beds + breakfast</td>\n",
       "      <td>165529</td>\n",
       "      <td>Evelyne</td>\n",
       "      <td>NaN</td>\n",
       "      <td>28804</td>\n",
       "      <td>35.65146</td>\n",
       "      <td>-82.62792</td>\n",
       "      <td>Private room</td>\n",
       "      <td>1</td>\n",
       "      <td>138</td>\n",
       "      <td>16/02/20</td>\n",
       "      <td>1.14</td>\n",
       "      <td>1</td>\n",
       "      <td>0</td>\n",
       "      <td>Asheville</td>\n",
       "      <td>60</td>\n",
       "    </tr>\n",
       "    <tr>\n",
       "      <th>1</th>\n",
       "      <td>80905</td>\n",
       "      <td>French Chic Loft</td>\n",
       "      <td>427027</td>\n",
       "      <td>Celeste</td>\n",
       "      <td>NaN</td>\n",
       "      <td>28801</td>\n",
       "      <td>35.59779</td>\n",
       "      <td>-82.55540</td>\n",
       "      <td>Entire home/apt</td>\n",
       "      <td>1</td>\n",
       "      <td>114</td>\n",
       "      <td>07/09/20</td>\n",
       "      <td>1.03</td>\n",
       "      <td>11</td>\n",
       "      <td>288</td>\n",
       "      <td>Asheville</td>\n",
       "      <td>470</td>\n",
       "    </tr>\n",
       "    <tr>\n",
       "      <th>2</th>\n",
       "      <td>108061</td>\n",
       "      <td>Walk to stores/parks/downtown. Fenced yard/Pet...</td>\n",
       "      <td>320564</td>\n",
       "      <td>Lisa</td>\n",
       "      <td>NaN</td>\n",
       "      <td>28801</td>\n",
       "      <td>35.60670</td>\n",
       "      <td>-82.55563</td>\n",
       "      <td>Entire home/apt</td>\n",
       "      <td>30</td>\n",
       "      <td>89</td>\n",
       "      <td>30/11/19</td>\n",
       "      <td>0.81</td>\n",
       "      <td>2</td>\n",
       "      <td>298</td>\n",
       "      <td>Asheville</td>\n",
       "      <td>75</td>\n",
       "    </tr>\n",
       "    <tr>\n",
       "      <th>3</th>\n",
       "      <td>155305</td>\n",
       "      <td>Cottage! BonPaul + Sharky's Hostel</td>\n",
       "      <td>746673</td>\n",
       "      <td>BonPaul</td>\n",
       "      <td>NaN</td>\n",
       "      <td>28806</td>\n",
       "      <td>35.57864</td>\n",
       "      <td>-82.59578</td>\n",
       "      <td>Entire home/apt</td>\n",
       "      <td>1</td>\n",
       "      <td>267</td>\n",
       "      <td>22/09/20</td>\n",
       "      <td>2.39</td>\n",
       "      <td>5</td>\n",
       "      <td>0</td>\n",
       "      <td>Asheville</td>\n",
       "      <td>90</td>\n",
       "    </tr>\n",
       "    <tr>\n",
       "      <th>4</th>\n",
       "      <td>160594</td>\n",
       "      <td>Historic Grove Park</td>\n",
       "      <td>769252</td>\n",
       "      <td>Elizabeth</td>\n",
       "      <td>NaN</td>\n",
       "      <td>28801</td>\n",
       "      <td>35.61442</td>\n",
       "      <td>-82.54127</td>\n",
       "      <td>Private room</td>\n",
       "      <td>30</td>\n",
       "      <td>58</td>\n",
       "      <td>19/10/15</td>\n",
       "      <td>0.52</td>\n",
       "      <td>1</td>\n",
       "      <td>0</td>\n",
       "      <td>Asheville</td>\n",
       "      <td>125</td>\n",
       "    </tr>\n",
       "  </tbody>\n",
       "</table>\n",
       "</div>"
      ],
      "text/plain": [
       "       id                                               name  host_id  \\\n",
       "0   38585    Charming Victorian home - twin beds + breakfast   165529   \n",
       "1   80905                                   French Chic Loft   427027   \n",
       "2  108061  Walk to stores/parks/downtown. Fenced yard/Pet...   320564   \n",
       "3  155305                 Cottage! BonPaul + Sharky's Hostel   746673   \n",
       "4  160594                                Historic Grove Park   769252   \n",
       "\n",
       "   host_name neighbourhood_group neighbourhood  latitude  longitude  \\\n",
       "0    Evelyne                 NaN         28804  35.65146  -82.62792   \n",
       "1    Celeste                 NaN         28801  35.59779  -82.55540   \n",
       "2       Lisa                 NaN         28801  35.60670  -82.55563   \n",
       "3    BonPaul                 NaN         28806  35.57864  -82.59578   \n",
       "4  Elizabeth                 NaN         28801  35.61442  -82.54127   \n",
       "\n",
       "         room_type  minimum_nights  number_of_reviews last_review  \\\n",
       "0     Private room               1                138    16/02/20   \n",
       "1  Entire home/apt               1                114    07/09/20   \n",
       "2  Entire home/apt              30                 89    30/11/19   \n",
       "3  Entire home/apt               1                267    22/09/20   \n",
       "4     Private room              30                 58    19/10/15   \n",
       "\n",
       "   reviews_per_month  calculated_host_listings_count  availability_365  \\\n",
       "0               1.14                               1                 0   \n",
       "1               1.03                              11               288   \n",
       "2               0.81                               2               298   \n",
       "3               2.39                               5                 0   \n",
       "4               0.52                               1                 0   \n",
       "\n",
       "        city  price  \n",
       "0  Asheville     60  \n",
       "1  Asheville    470  \n",
       "2  Asheville     75  \n",
       "3  Asheville     90  \n",
       "4  Asheville    125  "
      ]
     },
     "execution_count": 38,
     "metadata": {},
     "output_type": "execute_result"
    }
   ],
   "source": [
    "#move price column to last \n",
    "column_to_reorder = df.pop('price')\n",
    "df.insert(len(df. columns), 'price', column_to_reorder)\n",
    "\n",
    "df.head()"
   ]
  },
  {
   "cell_type": "code",
   "execution_count": 39,
   "id": "7f7a32bb",
   "metadata": {},
   "outputs": [],
   "source": [
    "df['last_review'] = pd.to_datetime(df['last_review'])"
   ]
  },
  {
   "cell_type": "code",
   "execution_count": 40,
   "id": "5eb65b3d",
   "metadata": {},
   "outputs": [
    {
     "data": {
      "text/plain": [
       "pandas._libs.tslibs.timestamps.Timestamp"
      ]
     },
     "execution_count": 40,
     "metadata": {},
     "output_type": "execute_result"
    }
   ],
   "source": [
    "type(df['last_review'][1])"
   ]
  },
  {
   "cell_type": "code",
   "execution_count": 41,
   "id": "9571e997",
   "metadata": {},
   "outputs": [
    {
     "data": {
      "text/plain": [
       "Timestamp('2020-12-09 00:00:00')"
      ]
     },
     "execution_count": 41,
     "metadata": {},
     "output_type": "execute_result"
    }
   ],
   "source": [
    "df['last_review'].max()"
   ]
  },
  {
   "cell_type": "code",
   "execution_count": 42,
   "id": "eccd9416",
   "metadata": {},
   "outputs": [
    {
     "data": {
      "text/plain": [
       "Timestamp('2010-03-28 00:00:00')"
      ]
     },
     "execution_count": 42,
     "metadata": {},
     "output_type": "execute_result"
    }
   ],
   "source": [
    "df['last_review'].min()"
   ]
  },
  {
   "cell_type": "code",
   "execution_count": 43,
   "id": "09385a91",
   "metadata": {},
   "outputs": [],
   "source": [
    "#X=df.iloc[:,:-1].values\n",
    "#y=df.iloc[:,-1].values"
   ]
  },
  {
   "cell_type": "markdown",
   "id": "8fc303a7",
   "metadata": {},
   "source": [
    "## Taking care of Missing Data"
   ]
  },
  {
   "cell_type": "markdown",
   "id": "f9781125",
   "metadata": {},
   "source": [
    "5 Ways To Handle Missing Values In Machine Learning Datasets:\n",
    "\n",
    "https://analyticsindiamag.com/5-ways-handle-missing-values-machine-learning-datasets/\n",
    "\n",
    "https://towardsdatascience.com/6-different-ways-to-compensate-for-missing-values-data-imputation-with-examples-6022d9ca0779"
   ]
  },
  {
   "cell_type": "markdown",
   "id": "68afd49a",
   "metadata": {},
   "source": [
    "url: https://towardsdatascience.com/7-ways-to-handle-missing-values-in-machine-learning-1a6326adf79e"
   ]
  },
  {
   "cell_type": "raw",
   "id": "3e455d7b",
   "metadata": {},
   "source": [
    "---> not getting installed"
   ]
  },
  {
   "cell_type": "code",
   "execution_count": 44,
   "id": "2ac5d4f7",
   "metadata": {},
   "outputs": [],
   "source": [
    "#Deciding:\n",
    "#name                                  28 Not significant str       Remove\n",
    "#host_name                             33 Not significant str       Remove\n",
    "#neighbourhood_group               115845 Significant     str       34 groups\n",
    "#last_review                        48602 Significant     str       🔴\n",
    "#reviews_per_month                  48602 Significant     float     replace nan by mean"
   ]
  },
  {
   "cell_type": "markdown",
   "id": "1ba6e0dd",
   "metadata": {},
   "source": [
    "### Handle missing datetimes in 'last_review' 🔴"
   ]
  },
  {
   "cell_type": "raw",
   "id": "71db6bd4",
   "metadata": {},
   "source": [
    "can we remove the variable?"
   ]
  },
  {
   "cell_type": "markdown",
   "id": "3329f8e6",
   "metadata": {},
   "source": [
    "### remove prices with 0 "
   ]
  },
  {
   "cell_type": "code",
   "execution_count": 45,
   "id": "a9f27098",
   "metadata": {},
   "outputs": [],
   "source": [
    "df = df[df['price']!=0]"
   ]
  },
  {
   "cell_type": "markdown",
   "id": "60e42280",
   "metadata": {},
   "source": [
    "### Remove rows with null values in 'name' & 'host_name'"
   ]
  },
  {
   "cell_type": "code",
   "execution_count": 46,
   "id": "c5348017",
   "metadata": {},
   "outputs": [],
   "source": [
    "df = df[pd.notnull(df['name'])]"
   ]
  },
  {
   "cell_type": "code",
   "execution_count": 47,
   "id": "fd787447",
   "metadata": {},
   "outputs": [],
   "source": [
    "df = df[pd.notnull(df['host_name'])]"
   ]
  },
  {
   "cell_type": "code",
   "execution_count": 48,
   "id": "e929d91a",
   "metadata": {},
   "outputs": [
    {
     "data": {
      "text/plain": [
       "id                                     0\n",
       "name                                   0\n",
       "host_id                                0\n",
       "host_name                              0\n",
       "neighbourhood_group               115801\n",
       "neighbourhood                          0\n",
       "latitude                               0\n",
       "longitude                              0\n",
       "room_type                              0\n",
       "minimum_nights                         0\n",
       "number_of_reviews                      0\n",
       "last_review                        48532\n",
       "reviews_per_month                  48532\n",
       "calculated_host_listings_count         0\n",
       "availability_365                       0\n",
       "city                                   0\n",
       "price                                  0\n",
       "dtype: int64"
      ]
     },
     "execution_count": 48,
     "metadata": {},
     "output_type": "execute_result"
    }
   ],
   "source": [
    "df.isna().sum()"
   ]
  },
  {
   "cell_type": "code",
   "execution_count": 49,
   "id": "fab55524",
   "metadata": {},
   "outputs": [],
   "source": [
    "X=df.iloc[:,:-1].values\n",
    "y=df.iloc[:,-1].values"
   ]
  },
  {
   "cell_type": "markdown",
   "id": "eb566fc2",
   "metadata": {},
   "source": [
    "### Imputation using Mean for 'reviews_per_month'"
   ]
  },
  {
   "cell_type": "markdown",
   "id": "21996542",
   "metadata": {},
   "source": [
    "related to 'number_of_reviews' ?"
   ]
  },
  {
   "cell_type": "code",
   "execution_count": 50,
   "id": "4d37231f",
   "metadata": {},
   "outputs": [
    {
     "name": "stdout",
     "output_type": "stream",
     "text": [
      "12\n"
     ]
    }
   ],
   "source": [
    "index_no = df.columns.get_loc('reviews_per_month')\n",
    "print(index_no)"
   ]
  },
  {
   "cell_type": "code",
   "execution_count": 51,
   "id": "fe0b0c92",
   "metadata": {
    "scrolled": true
   },
   "outputs": [
    {
     "data": {
      "text/plain": [
       "(225907,)"
      ]
     },
     "execution_count": 51,
     "metadata": {},
     "output_type": "execute_result"
    }
   ],
   "source": [
    "X[:,12].shape"
   ]
  },
  {
   "cell_type": "code",
   "execution_count": 52,
   "id": "e8775b4f",
   "metadata": {},
   "outputs": [],
   "source": [
    "xrpm = X[:,12].reshape(-1, 1)"
   ]
  },
  {
   "cell_type": "code",
   "execution_count": 53,
   "id": "e6213a7b",
   "metadata": {},
   "outputs": [],
   "source": [
    "from sklearn.impute import SimpleImputer\n",
    "imputer=SimpleImputer(missing_values=np.nan, strategy='mean')\n",
    "imputer.fit(xrpm)\n",
    "xrpm=imputer.transform(xrpm)"
   ]
  },
  {
   "cell_type": "code",
   "execution_count": 54,
   "id": "7bfa1866",
   "metadata": {},
   "outputs": [
    {
     "data": {
      "text/plain": [
       "0"
      ]
     },
     "execution_count": 54,
     "metadata": {},
     "output_type": "execute_result"
    }
   ],
   "source": [
    "np.count_nonzero(np.isnan(xrpm))"
   ]
  },
  {
   "cell_type": "code",
   "execution_count": 55,
   "id": "2ec83c93",
   "metadata": {},
   "outputs": [],
   "source": [
    "X[:,12]=xrpm.reshape(1,-1)"
   ]
  },
  {
   "cell_type": "code",
   "execution_count": 56,
   "id": "5c7493ee",
   "metadata": {
    "scrolled": true
   },
   "outputs": [
    {
     "data": {
      "text/plain": [
       "array([1.14, 1.03, 0.81, ..., 1.4315295842142357, 1.4315295842142357,\n",
       "       1.4315295842142357], dtype=object)"
      ]
     },
     "execution_count": 56,
     "metadata": {},
     "output_type": "execute_result"
    }
   ],
   "source": [
    "X[:,12]"
   ]
  },
  {
   "cell_type": "markdown",
   "id": "7fb4442a",
   "metadata": {},
   "source": [
    "### Imputation for 'neighbourhood_group' by adding new 'unknown' category"
   ]
  },
  {
   "cell_type": "code",
   "execution_count": 57,
   "id": "d67be915",
   "metadata": {},
   "outputs": [
    {
     "name": "stdout",
     "output_type": "stream",
     "text": [
      "4\n"
     ]
    }
   ],
   "source": [
    "index_no = df.columns.get_loc('neighbourhood_group')\n",
    "print(index_no)"
   ]
  },
  {
   "cell_type": "code",
   "execution_count": 58,
   "id": "77a4b022",
   "metadata": {},
   "outputs": [],
   "source": [
    "df1 = df\n",
    "df1['neighbourhood_group']=df1['neighbourhood_group'].replace(np.nan, 'unknown', regex = True)"
   ]
  },
  {
   "cell_type": "code",
   "execution_count": 59,
   "id": "2817c9fe",
   "metadata": {
    "scrolled": true
   },
   "outputs": [
    {
     "data": {
      "text/plain": [
       "id                                    0\n",
       "name                                  0\n",
       "host_id                               0\n",
       "host_name                             0\n",
       "neighbourhood_group                   0\n",
       "neighbourhood                         0\n",
       "latitude                              0\n",
       "longitude                             0\n",
       "room_type                             0\n",
       "minimum_nights                        0\n",
       "number_of_reviews                     0\n",
       "last_review                       48532\n",
       "reviews_per_month                 48532\n",
       "calculated_host_listings_count        0\n",
       "availability_365                      0\n",
       "city                                  0\n",
       "price                                 0\n",
       "dtype: int64"
      ]
     },
     "execution_count": 59,
     "metadata": {},
     "output_type": "execute_result"
    }
   ],
   "source": [
    "df1.isnull().sum()"
   ]
  },
  {
   "cell_type": "code",
   "execution_count": 60,
   "id": "ca149372",
   "metadata": {},
   "outputs": [],
   "source": [
    "X[:,4] = df1['neighbourhood_group'].values"
   ]
  },
  {
   "cell_type": "markdown",
   "id": "fd7c3d09",
   "metadata": {},
   "source": [
    "## Encoding Categorical Data"
   ]
  },
  {
   "cell_type": "code",
   "execution_count": 61,
   "id": "3565ea7d",
   "metadata": {},
   "outputs": [
    {
     "data": {
      "text/plain": [
       "(225907, 16)"
      ]
     },
     "execution_count": 61,
     "metadata": {},
     "output_type": "execute_result"
    }
   ],
   "source": [
    "X.shape"
   ]
  },
  {
   "cell_type": "code",
   "execution_count": 62,
   "id": "36661051",
   "metadata": {},
   "outputs": [
    {
     "data": {
      "text/plain": [
       "(225907,)"
      ]
     },
     "execution_count": 62,
     "metadata": {},
     "output_type": "execute_result"
    }
   ],
   "source": [
    "y.shape"
   ]
  },
  {
   "cell_type": "code",
   "execution_count": 63,
   "id": "59212edd",
   "metadata": {},
   "outputs": [
    {
     "data": {
      "text/plain": [
       "Index(['id', 'name', 'host_id', 'host_name', 'neighbourhood_group',\n",
       "       'neighbourhood', 'latitude', 'longitude', 'room_type', 'minimum_nights',\n",
       "       'number_of_reviews', 'last_review', 'reviews_per_month',\n",
       "       'calculated_host_listings_count', 'availability_365', 'city', 'price'],\n",
       "      dtype='object')"
      ]
     },
     "execution_count": 63,
     "metadata": {},
     "output_type": "execute_result"
    }
   ],
   "source": [
    "df.columns"
   ]
  },
  {
   "cell_type": "code",
   "execution_count": 64,
   "id": "f869fde9",
   "metadata": {},
   "outputs": [
    {
     "data": {
      "text/plain": [
       "array(['Asheville', 'Austin', 'Boston', 'Broward County', 'Cambridge',\n",
       "       'Chicago', 'Clark County', 'Columbus', 'Denver', 'Hawaii',\n",
       "       'Jersey City', 'Los Angeles', 'Nashville', 'New Orleans',\n",
       "       'New York City', 'Oakland', 'Pacific Grove', 'Portland',\n",
       "       'Rhode Island', 'Salem', 'San Clara Country', 'San Diego',\n",
       "       'San Francisco', 'San Mateo County', 'Santa Cruz County',\n",
       "       'Seattle', 'Twin Cities MSA', 'Washington D.C.'], dtype=object)"
      ]
     },
     "execution_count": 64,
     "metadata": {},
     "output_type": "execute_result"
    }
   ],
   "source": [
    "df.city.unique()"
   ]
  },
  {
   "cell_type": "raw",
   "id": "75ba1709",
   "metadata": {},
   "source": [
    "Categorical data columns:\n",
    "\n",
    "Independent-\n",
    "1. neighbourhood_group\n",
    "2. room_type\n",
    "3. city\n",
    "\n",
    "Dedependent-\n",
    "none"
   ]
  },
  {
   "cell_type": "code",
   "execution_count": 65,
   "id": "34346c33",
   "metadata": {},
   "outputs": [
    {
     "data": {
      "text/plain": [
       "(28,)"
      ]
     },
     "execution_count": 65,
     "metadata": {},
     "output_type": "execute_result"
    }
   ],
   "source": [
    "df.city.unique().shape"
   ]
  },
  {
   "cell_type": "code",
   "execution_count": 66,
   "id": "5ead76da",
   "metadata": {},
   "outputs": [
    {
     "data": {
      "text/plain": [
       "(35,)"
      ]
     },
     "execution_count": 66,
     "metadata": {},
     "output_type": "execute_result"
    }
   ],
   "source": [
    "df.neighbourhood_group.unique().shape"
   ]
  },
  {
   "cell_type": "code",
   "execution_count": 67,
   "id": "3ea2d5df",
   "metadata": {},
   "outputs": [
    {
     "data": {
      "text/plain": [
       "(4,)"
      ]
     },
     "execution_count": 67,
     "metadata": {},
     "output_type": "execute_result"
    }
   ],
   "source": [
    "df.room_type.unique().shape"
   ]
  },
  {
   "cell_type": "code",
   "execution_count": 69,
   "id": "c0341d1b",
   "metadata": {},
   "outputs": [
    {
     "data": {
      "text/plain": [
       "(17,)"
      ]
     },
     "execution_count": 69,
     "metadata": {},
     "output_type": "execute_result"
    }
   ],
   "source": [
    "df.columns.shape"
   ]
  },
  {
   "cell_type": "code",
   "execution_count": 70,
   "id": "dafef178",
   "metadata": {},
   "outputs": [
    {
     "data": {
      "text/plain": [
       "array(['Private room', 'Entire home/apt', 'Hotel room', 'Shared room'],\n",
       "      dtype=object)"
      ]
     },
     "execution_count": 70,
     "metadata": {},
     "output_type": "execute_result"
    }
   ],
   "source": [
    "df.room_type.unique()"
   ]
  },
  {
   "cell_type": "code",
   "execution_count": 83,
   "id": "588a3b9b",
   "metadata": {},
   "outputs": [
    {
     "name": "stdout",
     "output_type": "stream",
     "text": [
      "8\n"
     ]
    }
   ],
   "source": [
    "index_no = df.columns.get_loc('room_type')\n",
    "print(index_no)"
   ]
  },
  {
   "cell_type": "code",
   "execution_count": 84,
   "id": "34629a27",
   "metadata": {},
   "outputs": [
    {
     "data": {
      "text/plain": [
       "(225907, 16)"
      ]
     },
     "execution_count": 84,
     "metadata": {},
     "output_type": "execute_result"
    }
   ],
   "source": [
    "X.shape"
   ]
  },
  {
   "cell_type": "code",
   "execution_count": 86,
   "id": "86a717b1",
   "metadata": {},
   "outputs": [],
   "source": [
    "from sklearn.compose import ColumnTransformer\n",
    "from sklearn.preprocessing import OneHotEncoder\n",
    "\n",
    "ct = ColumnTransformer(transformers=[('encoder', OneHotEncoder(), [8])], remainder='passthrough')\n",
    "z=np.array(ct.fit_transform(X))"
   ]
  },
  {
   "cell_type": "code",
   "execution_count": 93,
   "id": "bc8d1ae1",
   "metadata": {},
   "outputs": [
    {
     "data": {
      "text/plain": [
       "array([0.0, 0.0, 0.0, 1.0, 6765734], dtype=object)"
      ]
     },
     "execution_count": 93,
     "metadata": {},
     "output_type": "execute_result"
    }
   ],
   "source": [
    "z[185,0:5]"
   ]
  },
  {
   "cell_type": "raw",
   "id": "427a5bc3",
   "metadata": {},
   "source": [
    "0010 Private room', \n",
    "1000 Entire home/apt', \n",
    "0100 Hotel room', \n",
    "0001 Shared room"
   ]
  },
  {
   "cell_type": "code",
   "execution_count": null,
   "id": "339bde1e",
   "metadata": {},
   "outputs": [],
   "source": []
  }
 ],
 "metadata": {
  "kernelspec": {
   "display_name": "Python 3 (ipykernel)",
   "language": "python",
   "name": "python3"
  },
  "language_info": {
   "codemirror_mode": {
    "name": "ipython",
    "version": 3
   },
   "file_extension": ".py",
   "mimetype": "text/x-python",
   "name": "python",
   "nbconvert_exporter": "python",
   "pygments_lexer": "ipython3",
   "version": "3.10.0"
  }
 },
 "nbformat": 4,
 "nbformat_minor": 5
}
